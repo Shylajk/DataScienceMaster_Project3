{
 "cells": [
  {
   "cell_type": "markdown",
   "metadata": {},
   "source": [
    "<H3> Project  - 3 Application of Classification Models on Census Data - Adult Data set </H3>"
   ]
  },
  {
   "cell_type": "markdown",
   "metadata": {},
   "source": [
    "<H3> Problem 1:\n",
    "Prediction task is to determine whether a person makes over 50K a year.\n",
    "</H3>\n",
    "\n",
    "<H3>\n",
    "Problem 2:\n",
    "Which factors are important\n",
    "</H3>\n",
    "\n",
    "<H3>\n",
    "Problem 3:\n",
    "Which algorithms are best for this dataset\n",
    "\n",
    "</H3>"
   ]
  },
  {
   "cell_type": "markdown",
   "metadata": {},
   "source": [
    "<H5> Importing Libraries </H5>"
   ]
  },
  {
   "cell_type": "code",
   "execution_count": 62,
   "metadata": {},
   "outputs": [],
   "source": [
    "import sklearn\n",
    "import numpy as np\n",
    "import pandas as pd\n",
    "import matplotlib.pyplot as plt\n",
    "import seaborn as sns\n",
    "from pandas.tools.plotting import scatter_matrix\n",
    "from mpl_toolkits.mplot3d import Axes3D\n",
    "from sklearn.feature_selection import RFE, RFECV\n",
    "from sklearn.svm import SVR\n",
    "from sklearn.decomposition import PCA\n",
    "from sklearn.preprocessing import OneHotEncoder, LabelEncoder, label_binarize\n",
    "import sklearn.ensemble as ske\n",
    "from sklearn import datasets, model_selection, tree, preprocessing, metrics, linear_model\n",
    "from sklearn.svm import LinearSVC\n",
    "from sklearn.ensemble import RandomForestClassifier, GradientBoostingClassifier\n",
    "from sklearn.neighbors import KNeighborsClassifier\n",
    "from sklearn.naive_bayes import GaussianNB\n",
    "from sklearn.linear_model import LinearRegression, LogisticRegression, Ridge, Lasso, SGDClassifier\n",
    "from sklearn.tree import DecisionTreeClassifier\n",
    "import scipy.stats as st\n",
    "from scipy.stats import randint as sp_randint\n",
    "from sklearn.model_selection import GridSearchCV\n",
    "from sklearn.model_selection import RandomizedSearchCV\n",
    "from sklearn.metrics import precision_recall_fscore_support, roc_curve, auc\n",
    "import math\n"
   ]
  },
  {
   "cell_type": "markdown",
   "metadata": {},
   "source": [
    "<H3> Loading of data into Train and Test </H3>"
   ]
  },
  {
   "cell_type": "code",
   "execution_count": 63,
   "metadata": {},
   "outputs": [],
   "source": [
    "DATASET = (\"http://archive.ics.uci.edu/ml/machine-learning-databases/adult/adult.data\",\n",
    "    \"http://archive.ics.uci.edu/ml/machine-learning-databases/adult/adult.names\",\n",
    "    \"http://archive.ics.uci.edu/ml/machine-learning-databases/adult/adult.test\",)\n",
    "headers = ['age', 'workclass', 'fnlwgt', \n",
    "           'education', 'education-num', \n",
    "           'marital-status', 'occupation', \n",
    "           'relationship', 'race', 'sex', \n",
    "           'capital-gain', 'capital-loss', \n",
    "           'hours-per-week', 'native-country', \n",
    "           'predclass']\n",
    "training_raw = pd.read_csv('http://archive.ics.uci.edu/ml/machine-learning-databases/adult/adult.data', \n",
    "                       header=None,names=headers,na_values=[\"?\"])\n",
    "test_raw = pd.read_csv('http://archive.ics.uci.edu/ml/machine-learning-databases/adult/adult.test', \n",
    "                      header=None,names=headers,na_values=[\"?\"])"
   ]
  },
  {
   "cell_type": "markdown",
   "metadata": {},
   "source": [
    "<H4> Dataset shape</H4>"
   ]
  },
  {
   "cell_type": "code",
   "execution_count": 64,
   "metadata": {},
   "outputs": [
    {
     "data": {
      "text/plain": [
       "(32561, 15)"
      ]
     },
     "execution_count": 64,
     "metadata": {},
     "output_type": "execute_result"
    }
   ],
   "source": [
    "training_raw.shape"
   ]
  },
  {
   "cell_type": "code",
   "execution_count": 65,
   "metadata": {},
   "outputs": [
    {
     "data": {
      "text/plain": [
       "(16282, 15)"
      ]
     },
     "execution_count": 65,
     "metadata": {},
     "output_type": "execute_result"
    }
   ],
   "source": [
    "test_raw.shape"
   ]
  },
  {
   "cell_type": "markdown",
   "metadata": {},
   "source": [
    "<H3>Append both training and test data set into one another dataset </H3>"
   ]
  },
  {
   "cell_type": "code",
   "execution_count": 66,
   "metadata": {},
   "outputs": [],
   "source": [
    "dataset_raw = training_raw.append(test_raw)"
   ]
  },
  {
   "cell_type": "code",
   "execution_count": 67,
   "metadata": {},
   "outputs": [
    {
     "data": {
      "text/plain": [
       "(48843, 15)"
      ]
     },
     "execution_count": 67,
     "metadata": {},
     "output_type": "execute_result"
    }
   ],
   "source": [
    "dataset_raw.shape"
   ]
  },
  {
   "cell_type": "code",
   "execution_count": 68,
   "metadata": {},
   "outputs": [],
   "source": [
    "# Reset index to get the proper index after  appending training and test\n",
    "dataset_raw.reset_index(drop = True, inplace = True)"
   ]
  },
  {
   "cell_type": "code",
   "execution_count": 69,
   "metadata": {},
   "outputs": [
    {
     "data": {
      "text/plain": [
       "'5.59 MB'"
      ]
     },
     "execution_count": 69,
     "metadata": {},
     "output_type": "execute_result"
    }
   ],
   "source": [
    "# Displaying the size of the Dataframe in Memory\n",
    "def convert_size(size_bytes):\n",
    "   if size_bytes == 0:\n",
    "       return \"0B\"\n",
    "   size_name = (\"Bytes\", \"KB\", \"MB\", \"GB\", \"TB\", \"PB\", \"EB\", \"ZB\", \"YB\")\n",
    "   i = int(math.floor(math.log(size_bytes, 1024)))\n",
    "   p = math.pow(1024, i)\n",
    "   s = round(size_bytes / p, 2)\n",
    "   return \"%s %s\" % (s, size_name[i])\n",
    "\n",
    "convert_size(dataset_raw.memory_usage().sum())"
   ]
  },
  {
   "cell_type": "code",
   "execution_count": 70,
   "metadata": {},
   "outputs": [
    {
     "data": {
      "text/html": [
       "<div>\n",
       "<style scoped>\n",
       "    .dataframe tbody tr th:only-of-type {\n",
       "        vertical-align: middle;\n",
       "    }\n",
       "\n",
       "    .dataframe tbody tr th {\n",
       "        vertical-align: top;\n",
       "    }\n",
       "\n",
       "    .dataframe thead th {\n",
       "        text-align: right;\n",
       "    }\n",
       "</style>\n",
       "<table border=\"1\" class=\"dataframe\">\n",
       "  <thead>\n",
       "    <tr style=\"text-align: right;\">\n",
       "      <th></th>\n",
       "      <th>age</th>\n",
       "      <th>workclass</th>\n",
       "      <th>education</th>\n",
       "      <th>marital-status</th>\n",
       "      <th>occupation</th>\n",
       "      <th>relationship</th>\n",
       "      <th>race</th>\n",
       "      <th>sex</th>\n",
       "      <th>native-country</th>\n",
       "      <th>predclass</th>\n",
       "    </tr>\n",
       "  </thead>\n",
       "  <tbody>\n",
       "    <tr>\n",
       "      <th>count</th>\n",
       "      <td>48843</td>\n",
       "      <td>48842</td>\n",
       "      <td>48842</td>\n",
       "      <td>48842</td>\n",
       "      <td>48842</td>\n",
       "      <td>48842</td>\n",
       "      <td>48842</td>\n",
       "      <td>48842</td>\n",
       "      <td>48842</td>\n",
       "      <td>48842</td>\n",
       "    </tr>\n",
       "    <tr>\n",
       "      <th>unique</th>\n",
       "      <td>147</td>\n",
       "      <td>9</td>\n",
       "      <td>16</td>\n",
       "      <td>7</td>\n",
       "      <td>15</td>\n",
       "      <td>6</td>\n",
       "      <td>5</td>\n",
       "      <td>2</td>\n",
       "      <td>42</td>\n",
       "      <td>4</td>\n",
       "    </tr>\n",
       "    <tr>\n",
       "      <th>top</th>\n",
       "      <td>36</td>\n",
       "      <td>Private</td>\n",
       "      <td>HS-grad</td>\n",
       "      <td>Married-civ-spouse</td>\n",
       "      <td>Prof-specialty</td>\n",
       "      <td>Husband</td>\n",
       "      <td>White</td>\n",
       "      <td>Male</td>\n",
       "      <td>United-States</td>\n",
       "      <td>&lt;=50K</td>\n",
       "    </tr>\n",
       "    <tr>\n",
       "      <th>freq</th>\n",
       "      <td>898</td>\n",
       "      <td>33906</td>\n",
       "      <td>15784</td>\n",
       "      <td>22379</td>\n",
       "      <td>6172</td>\n",
       "      <td>19716</td>\n",
       "      <td>41762</td>\n",
       "      <td>32650</td>\n",
       "      <td>43832</td>\n",
       "      <td>24720</td>\n",
       "    </tr>\n",
       "  </tbody>\n",
       "</table>\n",
       "</div>"
      ],
      "text/plain": [
       "          age workclass education       marital-status       occupation  \\\n",
       "count   48843     48842     48842                48842            48842   \n",
       "unique    147         9        16                    7               15   \n",
       "top        36   Private   HS-grad   Married-civ-spouse   Prof-specialty   \n",
       "freq      898     33906     15784                22379             6172   \n",
       "\n",
       "       relationship    race    sex  native-country predclass  \n",
       "count         48842   48842  48842           48842     48842  \n",
       "unique            6       5      2              42         4  \n",
       "top         Husband   White   Male   United-States     <=50K  \n",
       "freq          19716   41762  32650           43832     24720  "
      ]
     },
     "execution_count": 70,
     "metadata": {},
     "output_type": "execute_result"
    }
   ],
   "source": [
    "# describe even object type columns\n",
    "dataset_raw.describe(include=['O'])"
   ]
  },
  {
   "cell_type": "code",
   "execution_count": 71,
   "metadata": {},
   "outputs": [
    {
     "name": "stdout",
     "output_type": "stream",
     "text": [
      "<class 'pandas.core.frame.DataFrame'>\n",
      "RangeIndex: 48843 entries, 0 to 48842\n",
      "Data columns (total 15 columns):\n",
      "age               48843 non-null object\n",
      "workclass         48842 non-null object\n",
      "fnlwgt            48842 non-null float64\n",
      "education         48842 non-null object\n",
      "education-num     48842 non-null float64\n",
      "marital-status    48842 non-null object\n",
      "occupation        48842 non-null object\n",
      "relationship      48842 non-null object\n",
      "race              48842 non-null object\n",
      "sex               48842 non-null object\n",
      "capital-gain      48842 non-null float64\n",
      "capital-loss      48842 non-null float64\n",
      "hours-per-week    48842 non-null float64\n",
      "native-country    48842 non-null object\n",
      "predclass         48842 non-null object\n",
      "dtypes: float64(5), object(10)\n",
      "memory usage: 5.6+ MB\n"
     ]
    }
   ],
   "source": [
    "dataset_raw.info()"
   ]
  },
  {
   "cell_type": "code",
   "execution_count": 72,
   "metadata": {},
   "outputs": [
    {
     "data": {
      "text/html": [
       "<div>\n",
       "<style scoped>\n",
       "    .dataframe tbody tr th:only-of-type {\n",
       "        vertical-align: middle;\n",
       "    }\n",
       "\n",
       "    .dataframe tbody tr th {\n",
       "        vertical-align: top;\n",
       "    }\n",
       "\n",
       "    .dataframe thead th {\n",
       "        text-align: right;\n",
       "    }\n",
       "</style>\n",
       "<table border=\"1\" class=\"dataframe\">\n",
       "  <thead>\n",
       "    <tr style=\"text-align: right;\">\n",
       "      <th></th>\n",
       "      <th>age</th>\n",
       "      <th>workclass</th>\n",
       "      <th>fnlwgt</th>\n",
       "      <th>education</th>\n",
       "      <th>education-num</th>\n",
       "      <th>marital-status</th>\n",
       "      <th>occupation</th>\n",
       "      <th>relationship</th>\n",
       "      <th>race</th>\n",
       "      <th>sex</th>\n",
       "      <th>capital-gain</th>\n",
       "      <th>capital-loss</th>\n",
       "      <th>hours-per-week</th>\n",
       "      <th>native-country</th>\n",
       "      <th>predclass</th>\n",
       "    </tr>\n",
       "  </thead>\n",
       "  <tbody>\n",
       "    <tr>\n",
       "      <th>0</th>\n",
       "      <td>39</td>\n",
       "      <td>State-gov</td>\n",
       "      <td>77516.0</td>\n",
       "      <td>Bachelors</td>\n",
       "      <td>13.0</td>\n",
       "      <td>Never-married</td>\n",
       "      <td>Adm-clerical</td>\n",
       "      <td>Not-in-family</td>\n",
       "      <td>White</td>\n",
       "      <td>Male</td>\n",
       "      <td>2174.0</td>\n",
       "      <td>0.0</td>\n",
       "      <td>40.0</td>\n",
       "      <td>United-States</td>\n",
       "      <td>&lt;=50K</td>\n",
       "    </tr>\n",
       "    <tr>\n",
       "      <th>1</th>\n",
       "      <td>50</td>\n",
       "      <td>Self-emp-not-inc</td>\n",
       "      <td>83311.0</td>\n",
       "      <td>Bachelors</td>\n",
       "      <td>13.0</td>\n",
       "      <td>Married-civ-spouse</td>\n",
       "      <td>Exec-managerial</td>\n",
       "      <td>Husband</td>\n",
       "      <td>White</td>\n",
       "      <td>Male</td>\n",
       "      <td>0.0</td>\n",
       "      <td>0.0</td>\n",
       "      <td>13.0</td>\n",
       "      <td>United-States</td>\n",
       "      <td>&lt;=50K</td>\n",
       "    </tr>\n",
       "  </tbody>\n",
       "</table>\n",
       "</div>"
      ],
      "text/plain": [
       "  age          workclass   fnlwgt   education  education-num  \\\n",
       "0  39          State-gov  77516.0   Bachelors           13.0   \n",
       "1  50   Self-emp-not-inc  83311.0   Bachelors           13.0   \n",
       "\n",
       "        marital-status        occupation    relationship    race    sex  \\\n",
       "0        Never-married      Adm-clerical   Not-in-family   White   Male   \n",
       "1   Married-civ-spouse   Exec-managerial         Husband   White   Male   \n",
       "\n",
       "   capital-gain  capital-loss  hours-per-week  native-country predclass  \n",
       "0        2174.0           0.0            40.0   United-States     <=50K  \n",
       "1           0.0           0.0            13.0   United-States     <=50K  "
      ]
     },
     "execution_count": 72,
     "metadata": {},
     "output_type": "execute_result"
    }
   ],
   "source": [
    "dataset_raw.head(2)"
   ]
  },
  {
   "cell_type": "code",
   "execution_count": 73,
   "metadata": {},
   "outputs": [],
   "source": [
    "# drop na values\n",
    "dataset_raw1 = dataset_raw.dropna()"
   ]
  },
  {
   "cell_type": "code",
   "execution_count": 74,
   "metadata": {},
   "outputs": [
    {
     "data": {
      "text/plain": [
       "(48842, 15)"
      ]
     },
     "execution_count": 74,
     "metadata": {},
     "output_type": "execute_result"
    }
   ],
   "source": [
    "dataset_raw1.shape"
   ]
  },
  {
   "cell_type": "code",
   "execution_count": 75,
   "metadata": {},
   "outputs": [
    {
     "data": {
      "text/plain": [
       "<bound method DataFrame.info of       age          workclass    fnlwgt      education  education-num  \\\n",
       "0      39          State-gov   77516.0      Bachelors           13.0   \n",
       "1      50   Self-emp-not-inc   83311.0      Bachelors           13.0   \n",
       "2      38            Private  215646.0        HS-grad            9.0   \n",
       "3      53            Private  234721.0           11th            7.0   \n",
       "4      28            Private  338409.0      Bachelors           13.0   \n",
       "5      37            Private  284582.0        Masters           14.0   \n",
       "6      49            Private  160187.0            9th            5.0   \n",
       "7      52   Self-emp-not-inc  209642.0        HS-grad            9.0   \n",
       "8      31            Private   45781.0        Masters           14.0   \n",
       "9      42            Private  159449.0      Bachelors           13.0   \n",
       "10     37            Private  280464.0   Some-college           10.0   \n",
       "11     30          State-gov  141297.0      Bachelors           13.0   \n",
       "12     23            Private  122272.0      Bachelors           13.0   \n",
       "13     32            Private  205019.0     Assoc-acdm           12.0   \n",
       "14     40            Private  121772.0      Assoc-voc           11.0   \n",
       "15     34            Private  245487.0        7th-8th            4.0   \n",
       "16     25   Self-emp-not-inc  176756.0        HS-grad            9.0   \n",
       "17     32            Private  186824.0        HS-grad            9.0   \n",
       "18     38            Private   28887.0           11th            7.0   \n",
       "19     43   Self-emp-not-inc  292175.0        Masters           14.0   \n",
       "20     40            Private  193524.0      Doctorate           16.0   \n",
       "21     54            Private  302146.0        HS-grad            9.0   \n",
       "22     35        Federal-gov   76845.0            9th            5.0   \n",
       "23     43            Private  117037.0           11th            7.0   \n",
       "24     59            Private  109015.0        HS-grad            9.0   \n",
       "25     56          Local-gov  216851.0      Bachelors           13.0   \n",
       "26     19            Private  168294.0        HS-grad            9.0   \n",
       "27     54                  ?  180211.0   Some-college           10.0   \n",
       "28     39            Private  367260.0        HS-grad            9.0   \n",
       "29     49            Private  193366.0        HS-grad            9.0   \n",
       "...    ..                ...       ...            ...            ...   \n",
       "48813  81                  ?   26711.0      Assoc-voc           11.0   \n",
       "48814  60            Private  117909.0      Assoc-voc           11.0   \n",
       "48815  39            Private  229647.0      Bachelors           13.0   \n",
       "48816  38            Private  149347.0        Masters           14.0   \n",
       "48817  43          Local-gov   23157.0        Masters           14.0   \n",
       "48818  23            Private   93977.0        HS-grad            9.0   \n",
       "48819  73       Self-emp-inc  159691.0   Some-college           10.0   \n",
       "48820  35            Private  176967.0   Some-college           10.0   \n",
       "48821  66            Private  344436.0        HS-grad            9.0   \n",
       "48822  27            Private  430340.0   Some-college           10.0   \n",
       "48823  40            Private  202168.0    Prof-school           15.0   \n",
       "48824  51            Private   82720.0        HS-grad            9.0   \n",
       "48825  22            Private  269623.0   Some-college           10.0   \n",
       "48826  64   Self-emp-not-inc  136405.0        HS-grad            9.0   \n",
       "48827  50          Local-gov  139347.0        Masters           14.0   \n",
       "48828  55            Private  224655.0        HS-grad            9.0   \n",
       "48829  38            Private  247547.0      Assoc-voc           11.0   \n",
       "48830  58            Private  292710.0     Assoc-acdm           12.0   \n",
       "48831  32            Private  173449.0        HS-grad            9.0   \n",
       "48832  48            Private  285570.0        HS-grad            9.0   \n",
       "48833  61            Private   89686.0        HS-grad            9.0   \n",
       "48834  31            Private  440129.0        HS-grad            9.0   \n",
       "48835  25            Private  350977.0        HS-grad            9.0   \n",
       "48836  48          Local-gov  349230.0        Masters           14.0   \n",
       "48837  33            Private  245211.0      Bachelors           13.0   \n",
       "48838  39            Private  215419.0      Bachelors           13.0   \n",
       "48839  64                  ?  321403.0        HS-grad            9.0   \n",
       "48840  38            Private  374983.0      Bachelors           13.0   \n",
       "48841  44            Private   83891.0      Bachelors           13.0   \n",
       "48842  35       Self-emp-inc  182148.0      Bachelors           13.0   \n",
       "\n",
       "               marital-status          occupation     relationship  \\\n",
       "0               Never-married        Adm-clerical    Not-in-family   \n",
       "1          Married-civ-spouse     Exec-managerial          Husband   \n",
       "2                    Divorced   Handlers-cleaners    Not-in-family   \n",
       "3          Married-civ-spouse   Handlers-cleaners          Husband   \n",
       "4          Married-civ-spouse      Prof-specialty             Wife   \n",
       "5          Married-civ-spouse     Exec-managerial             Wife   \n",
       "6       Married-spouse-absent       Other-service    Not-in-family   \n",
       "7          Married-civ-spouse     Exec-managerial          Husband   \n",
       "8               Never-married      Prof-specialty    Not-in-family   \n",
       "9          Married-civ-spouse     Exec-managerial          Husband   \n",
       "10         Married-civ-spouse     Exec-managerial          Husband   \n",
       "11         Married-civ-spouse      Prof-specialty          Husband   \n",
       "12              Never-married        Adm-clerical        Own-child   \n",
       "13              Never-married               Sales    Not-in-family   \n",
       "14         Married-civ-spouse        Craft-repair          Husband   \n",
       "15         Married-civ-spouse    Transport-moving          Husband   \n",
       "16              Never-married     Farming-fishing        Own-child   \n",
       "17              Never-married   Machine-op-inspct        Unmarried   \n",
       "18         Married-civ-spouse               Sales          Husband   \n",
       "19                   Divorced     Exec-managerial        Unmarried   \n",
       "20         Married-civ-spouse      Prof-specialty          Husband   \n",
       "21                  Separated       Other-service        Unmarried   \n",
       "22         Married-civ-spouse     Farming-fishing          Husband   \n",
       "23         Married-civ-spouse    Transport-moving          Husband   \n",
       "24                   Divorced        Tech-support        Unmarried   \n",
       "25         Married-civ-spouse        Tech-support          Husband   \n",
       "26              Never-married        Craft-repair        Own-child   \n",
       "27         Married-civ-spouse                   ?          Husband   \n",
       "28                   Divorced     Exec-managerial    Not-in-family   \n",
       "29         Married-civ-spouse        Craft-repair          Husband   \n",
       "...                       ...                 ...              ...   \n",
       "48813      Married-civ-spouse                   ?          Husband   \n",
       "48814      Married-civ-spouse      Prof-specialty          Husband   \n",
       "48815           Never-married        Tech-support    Not-in-family   \n",
       "48816      Married-civ-spouse      Prof-specialty          Husband   \n",
       "48817      Married-civ-spouse     Exec-managerial          Husband   \n",
       "48818           Never-married   Machine-op-inspct        Own-child   \n",
       "48819                Divorced     Exec-managerial    Not-in-family   \n",
       "48820      Married-civ-spouse     Protective-serv          Husband   \n",
       "48821                 Widowed               Sales   Other-relative   \n",
       "48822           Never-married               Sales    Not-in-family   \n",
       "48823      Married-civ-spouse      Prof-specialty          Husband   \n",
       "48824      Married-civ-spouse        Craft-repair          Husband   \n",
       "48825           Never-married        Craft-repair        Own-child   \n",
       "48826                 Widowed     Farming-fishing    Not-in-family   \n",
       "48827      Married-civ-spouse      Prof-specialty             Wife   \n",
       "48828               Separated     Priv-house-serv    Not-in-family   \n",
       "48829           Never-married        Adm-clerical        Unmarried   \n",
       "48830                Divorced      Prof-specialty    Not-in-family   \n",
       "48831      Married-civ-spouse   Handlers-cleaners          Husband   \n",
       "48832      Married-civ-spouse        Adm-clerical          Husband   \n",
       "48833      Married-civ-spouse               Sales          Husband   \n",
       "48834      Married-civ-spouse        Craft-repair          Husband   \n",
       "48835           Never-married       Other-service        Own-child   \n",
       "48836                Divorced       Other-service    Not-in-family   \n",
       "48837           Never-married      Prof-specialty        Own-child   \n",
       "48838                Divorced      Prof-specialty    Not-in-family   \n",
       "48839                 Widowed                   ?   Other-relative   \n",
       "48840      Married-civ-spouse      Prof-specialty          Husband   \n",
       "48841                Divorced        Adm-clerical        Own-child   \n",
       "48842      Married-civ-spouse     Exec-managerial          Husband   \n",
       "\n",
       "                      race      sex  capital-gain  capital-loss  \\\n",
       "0                    White     Male        2174.0           0.0   \n",
       "1                    White     Male           0.0           0.0   \n",
       "2                    White     Male           0.0           0.0   \n",
       "3                    Black     Male           0.0           0.0   \n",
       "4                    Black   Female           0.0           0.0   \n",
       "5                    White   Female           0.0           0.0   \n",
       "6                    Black   Female           0.0           0.0   \n",
       "7                    White     Male           0.0           0.0   \n",
       "8                    White   Female       14084.0           0.0   \n",
       "9                    White     Male        5178.0           0.0   \n",
       "10                   Black     Male           0.0           0.0   \n",
       "11      Asian-Pac-Islander     Male           0.0           0.0   \n",
       "12                   White   Female           0.0           0.0   \n",
       "13                   Black     Male           0.0           0.0   \n",
       "14      Asian-Pac-Islander     Male           0.0           0.0   \n",
       "15      Amer-Indian-Eskimo     Male           0.0           0.0   \n",
       "16                   White     Male           0.0           0.0   \n",
       "17                   White     Male           0.0           0.0   \n",
       "18                   White     Male           0.0           0.0   \n",
       "19                   White   Female           0.0           0.0   \n",
       "20                   White     Male           0.0           0.0   \n",
       "21                   Black   Female           0.0           0.0   \n",
       "22                   Black     Male           0.0           0.0   \n",
       "23                   White     Male           0.0        2042.0   \n",
       "24                   White   Female           0.0           0.0   \n",
       "25                   White     Male           0.0           0.0   \n",
       "26                   White     Male           0.0           0.0   \n",
       "27      Asian-Pac-Islander     Male           0.0           0.0   \n",
       "28                   White     Male           0.0           0.0   \n",
       "29                   White     Male           0.0           0.0   \n",
       "...                    ...      ...           ...           ...   \n",
       "48813                White     Male        2936.0           0.0   \n",
       "48814                White     Male        7688.0           0.0   \n",
       "48815                White   Female           0.0        1669.0   \n",
       "48816                White     Male           0.0           0.0   \n",
       "48817                White     Male           0.0        1902.0   \n",
       "48818                White     Male           0.0           0.0   \n",
       "48819                White   Female           0.0           0.0   \n",
       "48820                White     Male           0.0           0.0   \n",
       "48821                White   Female           0.0           0.0   \n",
       "48822                White   Female           0.0           0.0   \n",
       "48823                White     Male       15024.0           0.0   \n",
       "48824                White     Male           0.0           0.0   \n",
       "48825                White     Male           0.0           0.0   \n",
       "48826                White     Male           0.0           0.0   \n",
       "48827                White   Female           0.0           0.0   \n",
       "48828                White   Female           0.0           0.0   \n",
       "48829                Black   Female           0.0           0.0   \n",
       "48830                White     Male           0.0           0.0   \n",
       "48831                White     Male           0.0           0.0   \n",
       "48832                White     Male           0.0           0.0   \n",
       "48833                White     Male           0.0           0.0   \n",
       "48834                White     Male           0.0           0.0   \n",
       "48835                White   Female           0.0           0.0   \n",
       "48836                White     Male           0.0           0.0   \n",
       "48837                White     Male           0.0           0.0   \n",
       "48838                White   Female           0.0           0.0   \n",
       "48839                Black     Male           0.0           0.0   \n",
       "48840                White     Male           0.0           0.0   \n",
       "48841   Asian-Pac-Islander     Male        5455.0           0.0   \n",
       "48842                White     Male           0.0           0.0   \n",
       "\n",
       "       hours-per-week  native-country predclass  \n",
       "0                40.0   United-States     <=50K  \n",
       "1                13.0   United-States     <=50K  \n",
       "2                40.0   United-States     <=50K  \n",
       "3                40.0   United-States     <=50K  \n",
       "4                40.0            Cuba     <=50K  \n",
       "5                40.0   United-States     <=50K  \n",
       "6                16.0         Jamaica     <=50K  \n",
       "7                45.0   United-States      >50K  \n",
       "8                50.0   United-States      >50K  \n",
       "9                40.0   United-States      >50K  \n",
       "10               80.0   United-States      >50K  \n",
       "11               40.0           India      >50K  \n",
       "12               30.0   United-States     <=50K  \n",
       "13               50.0   United-States     <=50K  \n",
       "14               40.0               ?      >50K  \n",
       "15               45.0          Mexico     <=50K  \n",
       "16               35.0   United-States     <=50K  \n",
       "17               40.0   United-States     <=50K  \n",
       "18               50.0   United-States     <=50K  \n",
       "19               45.0   United-States      >50K  \n",
       "20               60.0   United-States      >50K  \n",
       "21               20.0   United-States     <=50K  \n",
       "22               40.0   United-States     <=50K  \n",
       "23               40.0   United-States     <=50K  \n",
       "24               40.0   United-States     <=50K  \n",
       "25               40.0   United-States      >50K  \n",
       "26               40.0   United-States     <=50K  \n",
       "27               60.0           South      >50K  \n",
       "28               80.0   United-States     <=50K  \n",
       "29               40.0   United-States     <=50K  \n",
       "...               ...             ...       ...  \n",
       "48813            20.0   United-States    <=50K.  \n",
       "48814            40.0   United-States     >50K.  \n",
       "48815            40.0   United-States    <=50K.  \n",
       "48816            50.0   United-States     >50K.  \n",
       "48817            50.0   United-States     >50K.  \n",
       "48818            40.0   United-States    <=50K.  \n",
       "48819            40.0   United-States    <=50K.  \n",
       "48820            40.0   United-States    <=50K.  \n",
       "48821             8.0   United-States    <=50K.  \n",
       "48822            45.0   United-States    <=50K.  \n",
       "48823            55.0   United-States     >50K.  \n",
       "48824            40.0   United-States    <=50K.  \n",
       "48825            40.0   United-States    <=50K.  \n",
       "48826            32.0   United-States    <=50K.  \n",
       "48827            40.0               ?     >50K.  \n",
       "48828            32.0   United-States    <=50K.  \n",
       "48829            40.0   United-States    <=50K.  \n",
       "48830            36.0   United-States    <=50K.  \n",
       "48831            40.0   United-States    <=50K.  \n",
       "48832            40.0   United-States    <=50K.  \n",
       "48833            48.0   United-States    <=50K.  \n",
       "48834            40.0   United-States    <=50K.  \n",
       "48835            40.0   United-States    <=50K.  \n",
       "48836            40.0   United-States    <=50K.  \n",
       "48837            40.0   United-States    <=50K.  \n",
       "48838            36.0   United-States    <=50K.  \n",
       "48839            40.0   United-States    <=50K.  \n",
       "48840            50.0   United-States    <=50K.  \n",
       "48841            40.0   United-States    <=50K.  \n",
       "48842            60.0   United-States     >50K.  \n",
       "\n",
       "[48842 rows x 15 columns]>"
      ]
     },
     "execution_count": 75,
     "metadata": {},
     "output_type": "execute_result"
    }
   ],
   "source": [
    "dataset_raw1.info"
   ]
  },
  {
   "cell_type": "code",
   "execution_count": 76,
   "metadata": {},
   "outputs": [],
   "source": [
    "dataset_raw.dropna(inplace = True)"
   ]
  },
  {
   "cell_type": "code",
   "execution_count": 77,
   "metadata": {},
   "outputs": [],
   "source": [
    "# Change the type of age column from object to numeric\n",
    "dataset_raw[\"age\"] = pd.to_numeric(dataset_raw[\"age\"])"
   ]
  },
  {
   "cell_type": "code",
   "execution_count": 78,
   "metadata": {},
   "outputs": [
    {
     "name": "stdout",
     "output_type": "stream",
     "text": [
      "<class 'pandas.core.frame.DataFrame'>\n",
      "Int64Index: 48842 entries, 0 to 48842\n",
      "Data columns (total 15 columns):\n",
      "age               48842 non-null int64\n",
      "workclass         48842 non-null object\n",
      "fnlwgt            48842 non-null float64\n",
      "education         48842 non-null object\n",
      "education-num     48842 non-null float64\n",
      "marital-status    48842 non-null object\n",
      "occupation        48842 non-null object\n",
      "relationship      48842 non-null object\n",
      "race              48842 non-null object\n",
      "sex               48842 non-null object\n",
      "capital-gain      48842 non-null float64\n",
      "capital-loss      48842 non-null float64\n",
      "hours-per-week    48842 non-null float64\n",
      "native-country    48842 non-null object\n",
      "predclass         48842 non-null object\n",
      "dtypes: float64(5), int64(1), object(9)\n",
      "memory usage: 6.0+ MB\n"
     ]
    }
   ],
   "source": [
    "dataset_raw.info()"
   ]
  },
  {
   "cell_type": "code",
   "execution_count": 79,
   "metadata": {},
   "outputs": [],
   "source": [
    "cols = list(dataset_raw.columns)"
   ]
  },
  {
   "cell_type": "code",
   "execution_count": 80,
   "metadata": {},
   "outputs": [],
   "source": [
    "cols = cols[1:]"
   ]
  },
  {
   "cell_type": "code",
   "execution_count": 81,
   "metadata": {},
   "outputs": [
    {
     "data": {
      "text/plain": [
       "14"
      ]
     },
     "execution_count": 81,
     "metadata": {},
     "output_type": "execute_result"
    }
   ],
   "source": [
    "len(cols)"
   ]
  },
  {
   "cell_type": "markdown",
   "metadata": {},
   "source": [
    "<H3> Data Visualization </H3>"
   ]
  },
  {
   "cell_type": "code",
   "execution_count": 82,
   "metadata": {},
   "outputs": [
    {
     "data": {
      "text/plain": [
       "array([[<matplotlib.axes._subplots.AxesSubplot object at 0x00000073547A3AC8>,\n",
       "        <matplotlib.axes._subplots.AxesSubplot object at 0x0000007358744128>],\n",
       "       [<matplotlib.axes._subplots.AxesSubplot object at 0x000000730039A438>,\n",
       "        <matplotlib.axes._subplots.AxesSubplot object at 0x00000073003C0748>],\n",
       "       [<matplotlib.axes._subplots.AxesSubplot object at 0x00000073003E9C18>,\n",
       "        <matplotlib.axes._subplots.AxesSubplot object at 0x00000073003E9C50>]],\n",
       "      dtype=object)"
      ]
     },
     "execution_count": 82,
     "metadata": {},
     "output_type": "execute_result"
    },
    {
     "data": {
      "image/png": "[encoded data removed]",
      "text/plain": [
       "<Figure size 432x288 with 6 Axes>"
      ]
     },
     "metadata": {},
     "output_type": "display_data"
    }
   ],
   "source": [
    "import matplotlib.pyplot as plt\n",
    "%matplotlib inline\n",
    "dataset_raw.hist()"
   ]
  },
  {
   "cell_type": "code",
   "execution_count": 83,
   "metadata": {},
   "outputs": [],
   "source": [
    "dataset_bin = pd.DataFrame() # To contain dataframe with discretised continuous variables \n",
    "dataset_con = pd.DataFrame() # To contain dataframe with continuous variables "
   ]
  },
  {
   "cell_type": "code",
   "execution_count": 84,
   "metadata": {},
   "outputs": [],
   "source": [
    "import seaborn as sns"
   ]
  },
  {
   "cell_type": "code",
   "execution_count": 85,
   "metadata": {},
   "outputs": [
    {
     "data": {
      "text/plain": [
       "<seaborn.axisgrid.PairGrid at 0x730044a7f0>"
      ]
     },
     "execution_count": 85,
     "metadata": {},
     "output_type": "execute_result"
    },
    {
     "data": {
      "image/png": "[encoded data removed]",
      "text/plain": [
       "<Figure size 540x540 with 12 Axes>"
      ]
     },
     "metadata": {},
     "output_type": "display_data"
    }
   ],
   "source": [
    "#Here we plot scatter plot, histogram and violin plot using Pair grid.  \n",
    "g = sns.PairGrid(data=dataset_raw, vars = ['age', 'education-num', 'hours-per-week'])  \n",
    "# with the help of the vars parameter we can select the variables between which we want the plot to be constructed.  \n",
    "g.map_lower(plt.scatter, color='red')  \n",
    "g.map_diag(plt.hist, bins=15)  \n",
    "g.map_upper(sns.violinplot)"
   ]
  },
  {
   "cell_type": "code",
   "execution_count": 86,
   "metadata": {},
   "outputs": [],
   "source": [
    "# Let's recode the Class Feature\n",
    "dataset_raw.loc[dataset_raw['predclass'] == ' >50K', 'predclass'] = 1\n",
    "dataset_raw.loc[dataset_raw['predclass'] == ' >50K.', 'predclass'] = 1\n",
    "dataset_raw.loc[dataset_raw['predclass'] == ' <=50K', 'predclass'] = 0\n",
    "dataset_raw.loc[dataset_raw['predclass'] == ' <=50K.', 'predclass'] = 0"
   ]
  },
  {
   "cell_type": "code",
   "execution_count": 87,
   "metadata": {},
   "outputs": [
    {
     "data": {
      "text/plain": [
       "0         True\n",
       "1         True\n",
       "2         True\n",
       "3         True\n",
       "4         True\n",
       "5         True\n",
       "6         True\n",
       "7        False\n",
       "8        False\n",
       "9        False\n",
       "10       False\n",
       "11       False\n",
       "12        True\n",
       "13        True\n",
       "14       False\n",
       "15        True\n",
       "16        True\n",
       "17        True\n",
       "18        True\n",
       "19       False\n",
       "20       False\n",
       "21        True\n",
       "22        True\n",
       "23        True\n",
       "24        True\n",
       "25       False\n",
       "26        True\n",
       "27       False\n",
       "28        True\n",
       "29        True\n",
       "         ...  \n",
       "48813     True\n",
       "48814    False\n",
       "48815     True\n",
       "48816    False\n",
       "48817    False\n",
       "48818     True\n",
       "48819     True\n",
       "48820     True\n",
       "48821     True\n",
       "48822     True\n",
       "48823    False\n",
       "48824     True\n",
       "48825     True\n",
       "48826     True\n",
       "48827    False\n",
       "48828     True\n",
       "48829     True\n",
       "48830     True\n",
       "48831     True\n",
       "48832     True\n",
       "48833     True\n",
       "48834     True\n",
       "48835     True\n",
       "48836     True\n",
       "48837     True\n",
       "48838     True\n",
       "48839     True\n",
       "48840     True\n",
       "48841     True\n",
       "48842    False\n",
       "Name: predclass, Length: 48842, dtype: bool"
      ]
     },
     "execution_count": 87,
     "metadata": {},
     "output_type": "execute_result"
    }
   ],
   "source": [
    "#if the distribution ofage column in different for diff predclass\n",
    "dataset_raw['predclass'] == 0"
   ]
  },
  {
   "cell_type": "code",
   "execution_count": 89,
   "metadata": {},
   "outputs": [],
   "source": [
    "dataset_bin['predclass'] = dataset_raw['predclass']\n",
    "dataset_con['predclass'] = dataset_raw['predclass']"
   ]
  },
  {
   "cell_type": "code",
   "execution_count": 93,
   "metadata": {},
   "outputs": [
    {
     "data": {
      "text/plain": [
       "36    1348\n",
       "35    1337\n",
       "33    1335\n",
       "23    1329\n",
       "31    1325\n",
       "34    1303\n",
       "37    1280\n",
       "28    1280\n",
       "30    1278\n",
       "38    1264\n",
       "32    1253\n",
       "41    1235\n",
       "27    1232\n",
       "29    1223\n",
       "39    1206\n",
       "24    1206\n",
       "25    1195\n",
       "40    1187\n",
       "22    1178\n",
       "42    1165\n",
       "26    1153\n",
       "20    1113\n",
       "43    1104\n",
       "46    1097\n",
       "21    1096\n",
       "45    1096\n",
       "47    1081\n",
       "44    1067\n",
       "19    1053\n",
       "51     877\n",
       "      ... \n",
       "60     449\n",
       "62     394\n",
       "64     340\n",
       "63     335\n",
       "65     284\n",
       "67     238\n",
       "66     237\n",
       "68     178\n",
       "69     149\n",
       "70     133\n",
       "72     120\n",
       "71     118\n",
       "73     108\n",
       "74      77\n",
       "75      72\n",
       "76      69\n",
       "90      55\n",
       "77      54\n",
       "80      38\n",
       "81      37\n",
       "78      34\n",
       "79      30\n",
       "82      15\n",
       "84      13\n",
       "83      11\n",
       "88       6\n",
       "85       5\n",
       "87       3\n",
       "89       2\n",
       "86       1\n",
       "Name: age, Length: 74, dtype: int64"
      ]
     },
     "execution_count": 93,
     "metadata": {},
     "output_type": "execute_result"
    }
   ],
   "source": [
    "dataset_raw.age.value_counts()"
   ]
  },
  {
   "cell_type": "code",
   "execution_count": 94,
   "metadata": {},
   "outputs": [],
   "source": [
    "dataset_raw.age = dataset_raw.age.astype(float)"
   ]
  },
  {
   "cell_type": "code",
   "execution_count": 97,
   "metadata": {},
   "outputs": [],
   "source": [
    "dataset_bin['age'] = pd.cut(dataset_raw['age'], 10) # discretised \n",
    "dataset_con['age'] = dataset_raw['age'] # non-discretised"
   ]
  },
  {
   "cell_type": "code",
   "execution_count": 100,
   "metadata": {},
   "outputs": [
    {
     "name": "stderr",
     "output_type": "stream",
     "text": [
      "C:\\Users\\ARVIND\\Anaconda3\\lib\\site-packages\\matplotlib\\axes\\_axes.py:6462: UserWarning: The 'normed' kwarg is deprecated, and has been replaced by the 'density' kwarg.\n",
      "  warnings.warn(\"The 'normed' kwarg is deprecated, and has been \"\n",
      "C:\\Users\\ARVIND\\Anaconda3\\lib\\site-packages\\matplotlib\\axes\\_axes.py:6462: UserWarning: The 'normed' kwarg is deprecated, and has been replaced by the 'density' kwarg.\n",
      "  warnings.warn(\"The 'normed' kwarg is deprecated, and has been \"\n"
     ]
    },
    {
     "data": {
      "image/png": "[encoded data removed]",
      "text/plain": [
       "<Figure size 432x288 with 1 Axes>"
      ]
     },
     "metadata": {},
     "output_type": "display_data"
    }
   ],
   "source": [
    "sns.distplot(dataset_raw.loc[dataset_raw['predclass'] == 1]['age'], kde_kws={\"label\": \">$50K\"});\n",
    "sns.distplot(dataset_raw.loc[dataset_raw['predclass'] == 0]['age'], kde_kws={\"label\": \"<$50K\"});"
   ]
  },
  {
   "cell_type": "code",
   "execution_count": 106,
   "metadata": {},
   "outputs": [],
   "source": [
    "# Create buckets for Workclass\n",
    "dataset_raw.loc[dataset_raw['workclass'] == 'Without-pay', 'workclass'] = 'Not Working'\n",
    "dataset_raw.loc[dataset_raw['workclass'] == 'Never-worked', 'workclass'] = 'Not Working'\n",
    "dataset_raw.loc[dataset_raw['workclass'] == 'Federal-gov', 'workclass'] = 'Fed-gov'\n",
    "dataset_raw.loc[dataset_raw['workclass'] == 'State-gov', 'workclass'] = 'Non-fed-gov'\n",
    "dataset_raw.loc[dataset_raw['workclass'] == 'Local-gov', 'workclass'] = 'Non-fed-gov'\n",
    "dataset_raw.loc[dataset_raw['workclass'] == 'Self-emp-not-inc', 'workclass'] = 'Self-emp'\n",
    "dataset_raw.loc[dataset_raw['workclass'] == 'Self-emp-inc', 'workclass'] = 'Self-emp'\n",
    "\n",
    "\n",
    "dataset_bin['workclass'] = dataset_raw['workclass']\n",
    "dataset_con['workclass'] = dataset_raw['workclass']"
   ]
  },
  {
   "cell_type": "code",
   "execution_count": 58,
   "metadata": {},
   "outputs": [
    {
     "data": {
      "image/png": "[encoded data removed]",
      "text/plain": [
       "<Figure size 1440x432 with 1 Axes>"
      ]
     },
     "metadata": {},
     "output_type": "display_data"
    }
   ],
   "source": [
    "fig = plt.figure(figsize=(20,6)) \n",
    "sns.countplot(y=\"workclass\", data=dataset_raw);"
   ]
  },
  {
   "cell_type": "code",
   "execution_count": 107,
   "metadata": {},
   "outputs": [],
   "source": [
    "# Create buckets for Occupation\n",
    "dataset_raw.loc[dataset_raw['occupation'] == 'Adm-clerical', 'occupation'] = 'Admin'\n",
    "dataset_raw.loc[dataset_raw['occupation'] == 'Armed-Forces', 'occupation'] = 'Military'\n",
    "dataset_raw.loc[dataset_raw['occupation'] == 'Craft-repair', 'occupation'] = 'Manual Labour'\n",
    "dataset_raw.loc[dataset_raw['occupation'] == 'Exec-managerial', 'occupation'] = 'Office Labour'\n",
    "dataset_raw.loc[dataset_raw['occupation'] == 'Farming-fishing', 'occupation'] = 'Manual Labour'\n",
    "dataset_raw.loc[dataset_raw['occupation'] == 'Handlers-cleaners', 'occupation'] = 'Manual Labour'\n",
    "dataset_raw.loc[dataset_raw['occupation'] == 'Machine-op-inspct', 'occupation'] = 'Manual Labour'\n",
    "dataset_raw.loc[dataset_raw['occupation'] == 'Other-service', 'occupation'] = 'Service'\n",
    "dataset_raw.loc[dataset_raw['occupation'] == 'Priv-house-serv', 'occupation'] = 'Service'\n",
    "dataset_raw.loc[dataset_raw['occupation'] == 'Prof-specialty', 'occupation'] = 'Professional'\n",
    "dataset_raw.loc[dataset_raw['occupation'] == 'Protective-serv', 'occupation'] = 'Military'\n",
    "dataset_raw.loc[dataset_raw['occupation'] == 'Sales', 'occupation'] = 'Office Labour'\n",
    "dataset_raw.loc[dataset_raw['occupation'] == 'Tech-support', 'occupation'] = 'Office Labour'\n",
    "dataset_raw.loc[dataset_raw['occupation'] == 'Transport-moving', 'occupation'] = 'Manual Labour'\n",
    "\n",
    "\n",
    "dataset_bin['occupation'] = dataset_raw['occupation']\n",
    "dataset_con['occupation'] = dataset_raw['occupation']"
   ]
  },
  {
   "cell_type": "code",
   "execution_count": 59,
   "metadata": {},
   "outputs": [
    {
     "data": {
      "image/png": "[encoded data removed]",
      "text/plain": [
       "<Figure size 1440x576 with 1 Axes>"
      ]
     },
     "metadata": {},
     "output_type": "display_data"
    }
   ],
   "source": [
    "fig = plt.figure(figsize=(20,8))\n",
    "sns.countplot(y=\"occupation\", data=dataset_raw);"
   ]
  },
  {
   "cell_type": "code",
   "execution_count": 108,
   "metadata": {},
   "outputs": [],
   "source": [
    "dataset_raw.loc[dataset_raw['native-country'] == 'Cambodia'                    , 'native-country'] = 'SE-Asia'\n",
    "dataset_raw.loc[dataset_raw['native-country'] == 'Canada'                      , 'native-country'] = 'British-Commonwealth'    \n",
    "dataset_raw.loc[dataset_raw['native-country'] == 'China'                       , 'native-country'] = 'China'       \n",
    "dataset_raw.loc[dataset_raw['native-country'] == 'Columbia'                    , 'native-country'] = 'South-America'    \n",
    "dataset_raw.loc[dataset_raw['native-country'] == 'Cuba'                        , 'native-country'] = 'South-America'        \n",
    "dataset_raw.loc[dataset_raw['native-country'] == 'Dominican-Republic'          , 'native-country'] = 'South-America'\n",
    "dataset_raw.loc[dataset_raw['native-country'] == 'Ecuador'                     , 'native-country'] = 'South-America'     \n",
    "dataset_raw.loc[dataset_raw['native-country'] == 'El-Salvador'                 , 'native-country'] = 'South-America'\n",
    "dataset_raw.loc[dataset_raw['native-country'] == 'England'                     , 'native-country'] = 'British-Commonwealth'\n",
    "dataset_raw.loc[dataset_raw['native-country'] == 'France'                      , 'native-country'] = 'Euro_Group_1'\n",
    "dataset_raw.loc[dataset_raw['native-country'] == 'Germany'                     , 'native-country'] = 'Euro_Group_1'\n",
    "dataset_raw.loc[dataset_raw['native-country'] == 'Greece'                      , 'native-country'] = 'Euro_Group_2'\n",
    "dataset_raw.loc[dataset_raw['native-country'] == 'Guatemala'                   , 'native-country'] = 'South-America'\n",
    "dataset_raw.loc[dataset_raw['native-country'] == 'Haiti'                       , 'native-country'] = 'South-America'\n",
    "dataset_raw.loc[dataset_raw['native-country'] == 'Holand-Netherlands'          , 'native-country'] = 'Euro_Group_1'\n",
    "dataset_raw.loc[dataset_raw['native-country'] == 'Honduras'                    , 'native-country'] = 'South-America'\n",
    "dataset_raw.loc[dataset_raw['native-country'] == 'Hong'                        , 'native-country'] = 'China'\n",
    "dataset_raw.loc[dataset_raw['native-country'] == 'Hungary'                     , 'native-country'] = 'Euro_Group_2'\n",
    "dataset_raw.loc[dataset_raw['native-country'] == 'India'                       , 'native-country'] = 'British-Commonwealth'\n",
    "dataset_raw.loc[dataset_raw['native-country'] == 'Iran'                        , 'native-country'] = 'Euro_Group_2'\n",
    "dataset_raw.loc[dataset_raw['native-country'] == 'Ireland'                     , 'native-country'] = 'British-Commonwealth'\n",
    "dataset_raw.loc[dataset_raw['native-country'] == 'Italy'                       , 'native-country'] = 'Euro_Group_1'\n",
    "dataset_raw.loc[dataset_raw['native-country'] == 'Jamaica'                     , 'native-country'] = 'South-America'\n",
    "dataset_raw.loc[dataset_raw['native-country'] == 'Japan'                       , 'native-country'] = 'APAC'\n",
    "dataset_raw.loc[dataset_raw['native-country'] == 'Laos'                        , 'native-country'] = 'SE-Asia'\n",
    "dataset_raw.loc[dataset_raw['native-country'] == 'Mexico'                      , 'native-country'] = 'South-America'\n",
    "dataset_raw.loc[dataset_raw['native-country'] == 'Nicaragua'                   , 'native-country'] = 'South-America'\n",
    "dataset_raw.loc[dataset_raw['native-country'] == 'Outlying-US(Guam-USVI-etc)'  , 'native-country'] = 'South-America'\n",
    "dataset_raw.loc[dataset_raw['native-country'] == 'Peru'                        , 'native-country'] = 'South-America'\n",
    "dataset_raw.loc[dataset_raw['native-country'] == 'Philippines'                 , 'native-country'] = 'SE-Asia'\n",
    "dataset_raw.loc[dataset_raw['native-country'] == 'Poland'                      , 'native-country'] = 'Euro_Group_2'\n",
    "dataset_raw.loc[dataset_raw['native-country'] == 'Portugal'                    , 'native-country'] = 'Euro_Group_2'\n",
    "dataset_raw.loc[dataset_raw['native-country'] == 'Puerto-Rico'                 , 'native-country'] = 'South-America'\n",
    "dataset_raw.loc[dataset_raw['native-country'] == 'Scotland'                    , 'native-country'] = 'British-Commonwealth'\n",
    "dataset_raw.loc[dataset_raw['native-country'] == 'South'                       , 'native-country'] = 'Euro_Group_2'\n",
    "dataset_raw.loc[dataset_raw['native-country'] == 'Taiwan'                      , 'native-country'] = 'China'\n",
    "dataset_raw.loc[dataset_raw['native-country'] == 'Thailand'                    , 'native-country'] = 'SE-Asia'\n",
    "dataset_raw.loc[dataset_raw['native-country'] == 'Trinadad&Tobago'             , 'native-country'] = 'South-America'\n",
    "dataset_raw.loc[dataset_raw['native-country'] == 'United-States'               , 'native-country'] = 'United-States'\n",
    "dataset_raw.loc[dataset_raw['native-country'] == 'Vietnam'                     , 'native-country'] = 'SE-Asia'\n",
    "dataset_raw.loc[dataset_raw['native-country'] == 'Yugoslavia'                  , 'native-country'] = 'Euro_Group_2'\n",
    "\n",
    "dataset_bin['native-country'] = dataset_raw['native-country']\n",
    "dataset_con['native-country'] = dataset_raw['native-country']"
   ]
  },
  {
   "cell_type": "code",
   "execution_count": 101,
   "metadata": {},
   "outputs": [
    {
     "data": {
      "image/png": "[encoded data removed]",
      "text/plain": [
       "<Figure size 1440x576 with 1 Axes>"
      ]
     },
     "metadata": {},
     "output_type": "display_data"
    }
   ],
   "source": [
    "fig = plt.figure(figsize=(20,8))\n",
    "sns.countplot(y=\"native-country\", data=dataset_raw);"
   ]
  },
  {
   "cell_type": "code",
   "execution_count": 109,
   "metadata": {},
   "outputs": [],
   "source": [
    "dataset_raw.loc[dataset_raw['education'] == '10th'          , 'education'] = 'Dropout'\n",
    "dataset_raw.loc[dataset_raw['education'] == '11th'          , 'education'] = 'Dropout'\n",
    "dataset_raw.loc[dataset_raw['education'] == '12th'          , 'education'] = 'Dropout'\n",
    "dataset_raw.loc[dataset_raw['education'] == '1st-4th'       , 'education'] = 'Dropout'\n",
    "dataset_raw.loc[dataset_raw['education'] == '5th-6th'       , 'education'] = 'Dropout'\n",
    "dataset_raw.loc[dataset_raw['education'] == '7th-8th'       , 'education'] = 'Dropout'\n",
    "dataset_raw.loc[dataset_raw['education'] == '9th'           , 'education'] = 'Dropout'\n",
    "dataset_raw.loc[dataset_raw['education'] == 'Assoc-acdm'    , 'education'] = 'Associate'\n",
    "dataset_raw.loc[dataset_raw['education'] == 'Assoc-voc'     , 'education'] = 'Associate'\n",
    "dataset_raw.loc[dataset_raw['education'] == 'Bachelors'     , 'education'] = 'Bachelors'\n",
    "dataset_raw.loc[dataset_raw['education'] == 'Doctorate'     , 'education'] = 'Doctorate'\n",
    "dataset_raw.loc[dataset_raw['education'] == 'HS-Grad'       , 'education'] = 'HS-Graduate'\n",
    "dataset_raw.loc[dataset_raw['education'] == 'Masters'       , 'education'] = 'Masters'\n",
    "dataset_raw.loc[dataset_raw['education'] == 'Preschool'     , 'education'] = 'Dropout'\n",
    "dataset_raw.loc[dataset_raw['education'] == 'Prof-school'   , 'education'] = 'Professor'\n",
    "dataset_raw.loc[dataset_raw['education'] == 'Some-college'  , 'education'] = 'HS-Graduate'\n",
    "\n",
    "\n",
    "dataset_bin['education'] = dataset_raw['education']\n",
    "dataset_con['education'] = dataset_raw['education']"
   ]
  },
  {
   "cell_type": "code",
   "execution_count": 104,
   "metadata": {},
   "outputs": [
    {
     "data": {
      "image/png": "[encoded data removed]",
      "text/plain": [
       "<Figure size 1440x576 with 1 Axes>"
      ]
     },
     "metadata": {},
     "output_type": "display_data"
    }
   ],
   "source": [
    "fig = plt.figure(figsize=(20,8))\n",
    "sns.countplot(y=\"education\", data=dataset_raw);"
   ]
  },
  {
   "cell_type": "code",
   "execution_count": 110,
   "metadata": {},
   "outputs": [],
   "source": [
    "dataset_raw.loc[dataset_raw['marital-status'] == 'Never-married'        , 'marital-status'] = 'Never-Married'\n",
    "dataset_raw.loc[dataset_raw['marital-status'] == 'Married-AF-spouse'    , 'marital-status'] = 'Married'\n",
    "dataset_raw.loc[dataset_raw['marital-status'] == 'Married-civ-spouse'   , 'marital-status'] = 'Married'\n",
    "dataset_raw.loc[dataset_raw['marital-status'] == 'Married-spouse-absent', 'marital-status'] = 'Not-Married'\n",
    "dataset_raw.loc[dataset_raw['marital-status'] == 'Separated'            , 'marital-status'] = 'Separated'\n",
    "dataset_raw.loc[dataset_raw['marital-status'] == 'Divorced'             , 'marital-status'] = 'Separated'\n",
    "dataset_raw.loc[dataset_raw['marital-status'] == 'Widowed'              , 'marital-status'] = 'Widowed'\n",
    "\n",
    "\n",
    "dataset_bin['marital-status'] = dataset_raw['marital-status']\n",
    "dataset_con['marital-status'] = dataset_raw['marital-status']"
   ]
  },
  {
   "cell_type": "code",
   "execution_count": 111,
   "metadata": {},
   "outputs": [
    {
     "data": {
      "image/png": "[encoded data removed]",
      "text/plain": [
       "<Figure size 1440x576 with 1 Axes>"
      ]
     },
     "metadata": {},
     "output_type": "display_data"
    }
   ],
   "source": [
    "fig = plt.figure(figsize=(20,8))\n",
    "sns.countplot(y=\"marital-status\", data=dataset_raw);"
   ]
  },
  {
   "cell_type": "code",
   "execution_count": 114,
   "metadata": {},
   "outputs": [],
   "source": [
    "# use Cut function to bin the data in equally sized buckets\n",
    "dataset_bin['fnlwgt'] = pd.cut(dataset_raw['fnlwgt'], 10)\n",
    "dataset_con['fnlwgt'] = dataset_raw['fnlwgt']"
   ]
  },
  {
   "cell_type": "code",
   "execution_count": 117,
   "metadata": {},
   "outputs": [],
   "source": [
    "# use the Cut function to bin the data in equally sized buckets\n",
    "dataset_bin['education-num'] = pd.cut(dataset_raw['education-num'], 10)\n",
    "dataset_con['education-num'] = dataset_raw['education-num']"
   ]
  },
  {
   "cell_type": "code",
   "execution_count": 118,
   "metadata": {},
   "outputs": [],
   "source": [
    "# use Cut function to bin the data in equally sized buckets\n",
    "dataset_bin['hours-per-week'] = pd.cut(dataset_raw['hours-per-week'], 10)\n",
    "dataset_con['hours-per-week'] = dataset_raw['hours-per-week']"
   ]
  },
  {
   "cell_type": "code",
   "execution_count": 119,
   "metadata": {},
   "outputs": [],
   "source": [
    "# use the Cut function to bin the data in equally sized buckets\n",
    "dataset_bin['capital-gain'] = pd.cut(dataset_raw['capital-gain'], 5)\n",
    "dataset_con['capital-gain'] = dataset_raw['capital-gain']"
   ]
  },
  {
   "cell_type": "code",
   "execution_count": 120,
   "metadata": {},
   "outputs": [],
   "source": [
    "# use the Cut function to bin the data in equally sized buckets\n",
    "dataset_bin['capital-loss'] = pd.cut(dataset_raw['capital-loss'], 5)\n",
    "dataset_con['capital-loss'] = dataset_raw['capital-loss']"
   ]
  },
  {
   "cell_type": "code",
   "execution_count": 121,
   "metadata": {},
   "outputs": [],
   "source": [
    "dataset_con['sex'] = dataset_bin['sex'] = dataset_raw['sex']\n",
    "dataset_con['race'] = dataset_bin['race'] = dataset_raw['race']\n",
    "dataset_con['relationship'] = dataset_bin['relationship'] = dataset_raw['relationship']"
   ]
  },
  {
   "cell_type": "code",
   "execution_count": 122,
   "metadata": {},
   "outputs": [
    {
     "name": "stderr",
     "output_type": "stream",
     "text": [
      "C:\\Users\\ARVIND\\Anaconda3\\lib\\site-packages\\seaborn\\axisgrid.py:703: UserWarning: Using the boxplot function without specifying `order` is likely to produce an incorrect plot.\n",
      "  warnings.warn(warning)\n"
     ]
    },
    {
     "data": {
      "image/png": "[encoded data removed]",
      "text/plain": [
       "<Figure size 1814.4x288 with 7 Axes>"
      ]
     },
     "metadata": {},
     "output_type": "display_data"
    }
   ],
   "source": [
    "# Effect of Marital Status and Education on Income, across Marital Status.\n",
    "plt.style.use('fivethirtyeight')\n",
    "g = sns.FacetGrid(dataset_con, col='marital-status', size=4, aspect=.9)\n",
    "g = g.map(sns.boxplot, 'predclass', 'education-num')"
   ]
  },
  {
   "cell_type": "code",
   "execution_count": 123,
   "metadata": {},
   "outputs": [],
   "source": [
    "# creating interaction features\n",
    "dataset_con['age-hours'] = dataset_con['age'] * dataset_con['hours-per-week']\n",
    "dataset_bin['age-hours'] = pd.cut(dataset_con['age-hours'], 10)\n",
    "dataset_con['age-hours'] = dataset_con['age-hours']"
   ]
  },
  {
   "cell_type": "code",
   "execution_count": 124,
   "metadata": {},
   "outputs": [
    {
     "data": {
      "text/html": [
       "<div>\n",
       "<style scoped>\n",
       "    .dataframe tbody tr th:only-of-type {\n",
       "        vertical-align: middle;\n",
       "    }\n",
       "\n",
       "    .dataframe tbody tr th {\n",
       "        vertical-align: top;\n",
       "    }\n",
       "\n",
       "    .dataframe thead th {\n",
       "        text-align: right;\n",
       "    }\n",
       "</style>\n",
       "<table border=\"1\" class=\"dataframe\">\n",
       "  <thead>\n",
       "    <tr style=\"text-align: right;\">\n",
       "      <th></th>\n",
       "      <th>predclass</th>\n",
       "      <th>age_(16.927, 24.3]</th>\n",
       "      <th>age_(24.3, 31.6]</th>\n",
       "      <th>age_(31.6, 38.9]</th>\n",
       "      <th>age_(38.9, 46.2]</th>\n",
       "      <th>age_(46.2, 53.5]</th>\n",
       "      <th>age_(53.5, 60.8]</th>\n",
       "      <th>age_(60.8, 68.1]</th>\n",
       "      <th>age_(68.1, 75.4]</th>\n",
       "      <th>age_(75.4, 82.7]</th>\n",
       "      <th>...</th>\n",
       "      <th>age-hours_(12.111, 909.9]</th>\n",
       "      <th>age-hours_(909.9, 1798.8]</th>\n",
       "      <th>age-hours_(1798.8, 2687.7]</th>\n",
       "      <th>age-hours_(2687.7, 3576.6]</th>\n",
       "      <th>age-hours_(3576.6, 4465.5]</th>\n",
       "      <th>age-hours_(4465.5, 5354.4]</th>\n",
       "      <th>age-hours_(5354.4, 6243.3]</th>\n",
       "      <th>age-hours_(6243.3, 7132.2]</th>\n",
       "      <th>age-hours_(7132.2, 8021.1]</th>\n",
       "      <th>age-hours_(8021.1, 8910.0]</th>\n",
       "    </tr>\n",
       "  </thead>\n",
       "  <tbody>\n",
       "    <tr>\n",
       "      <th>0</th>\n",
       "      <td>0</td>\n",
       "      <td>0</td>\n",
       "      <td>0</td>\n",
       "      <td>0</td>\n",
       "      <td>1</td>\n",
       "      <td>0</td>\n",
       "      <td>0</td>\n",
       "      <td>0</td>\n",
       "      <td>0</td>\n",
       "      <td>0</td>\n",
       "      <td>...</td>\n",
       "      <td>0</td>\n",
       "      <td>1</td>\n",
       "      <td>0</td>\n",
       "      <td>0</td>\n",
       "      <td>0</td>\n",
       "      <td>0</td>\n",
       "      <td>0</td>\n",
       "      <td>0</td>\n",
       "      <td>0</td>\n",
       "      <td>0</td>\n",
       "    </tr>\n",
       "    <tr>\n",
       "      <th>1</th>\n",
       "      <td>0</td>\n",
       "      <td>0</td>\n",
       "      <td>0</td>\n",
       "      <td>0</td>\n",
       "      <td>0</td>\n",
       "      <td>1</td>\n",
       "      <td>0</td>\n",
       "      <td>0</td>\n",
       "      <td>0</td>\n",
       "      <td>0</td>\n",
       "      <td>...</td>\n",
       "      <td>1</td>\n",
       "      <td>0</td>\n",
       "      <td>0</td>\n",
       "      <td>0</td>\n",
       "      <td>0</td>\n",
       "      <td>0</td>\n",
       "      <td>0</td>\n",
       "      <td>0</td>\n",
       "      <td>0</td>\n",
       "      <td>0</td>\n",
       "    </tr>\n",
       "    <tr>\n",
       "      <th>2</th>\n",
       "      <td>0</td>\n",
       "      <td>0</td>\n",
       "      <td>0</td>\n",
       "      <td>1</td>\n",
       "      <td>0</td>\n",
       "      <td>0</td>\n",
       "      <td>0</td>\n",
       "      <td>0</td>\n",
       "      <td>0</td>\n",
       "      <td>0</td>\n",
       "      <td>...</td>\n",
       "      <td>0</td>\n",
       "      <td>1</td>\n",
       "      <td>0</td>\n",
       "      <td>0</td>\n",
       "      <td>0</td>\n",
       "      <td>0</td>\n",
       "      <td>0</td>\n",
       "      <td>0</td>\n",
       "      <td>0</td>\n",
       "      <td>0</td>\n",
       "    </tr>\n",
       "    <tr>\n",
       "      <th>3</th>\n",
       "      <td>0</td>\n",
       "      <td>0</td>\n",
       "      <td>0</td>\n",
       "      <td>0</td>\n",
       "      <td>0</td>\n",
       "      <td>1</td>\n",
       "      <td>0</td>\n",
       "      <td>0</td>\n",
       "      <td>0</td>\n",
       "      <td>0</td>\n",
       "      <td>...</td>\n",
       "      <td>0</td>\n",
       "      <td>0</td>\n",
       "      <td>1</td>\n",
       "      <td>0</td>\n",
       "      <td>0</td>\n",
       "      <td>0</td>\n",
       "      <td>0</td>\n",
       "      <td>0</td>\n",
       "      <td>0</td>\n",
       "      <td>0</td>\n",
       "    </tr>\n",
       "    <tr>\n",
       "      <th>4</th>\n",
       "      <td>0</td>\n",
       "      <td>0</td>\n",
       "      <td>1</td>\n",
       "      <td>0</td>\n",
       "      <td>0</td>\n",
       "      <td>0</td>\n",
       "      <td>0</td>\n",
       "      <td>0</td>\n",
       "      <td>0</td>\n",
       "      <td>0</td>\n",
       "      <td>...</td>\n",
       "      <td>0</td>\n",
       "      <td>1</td>\n",
       "      <td>0</td>\n",
       "      <td>0</td>\n",
       "      <td>0</td>\n",
       "      <td>0</td>\n",
       "      <td>0</td>\n",
       "      <td>0</td>\n",
       "      <td>0</td>\n",
       "      <td>0</td>\n",
       "    </tr>\n",
       "  </tbody>\n",
       "</table>\n",
       "<p>5 rows × 163 columns</p>\n",
       "</div>"
      ],
      "text/plain": [
       "   predclass  age_(16.927, 24.3]  age_(24.3, 31.6]  age_(31.6, 38.9]  \\\n",
       "0          0                   0                 0                 0   \n",
       "1          0                   0                 0                 0   \n",
       "2          0                   0                 0                 1   \n",
       "3          0                   0                 0                 0   \n",
       "4          0                   0                 1                 0   \n",
       "\n",
       "   age_(38.9, 46.2]  age_(46.2, 53.5]  age_(53.5, 60.8]  age_(60.8, 68.1]  \\\n",
       "0                 1                 0                 0                 0   \n",
       "1                 0                 1                 0                 0   \n",
       "2                 0                 0                 0                 0   \n",
       "3                 0                 1                 0                 0   \n",
       "4                 0                 0                 0                 0   \n",
       "\n",
       "   age_(68.1, 75.4]  age_(75.4, 82.7]             ...              \\\n",
       "0                 0                 0             ...               \n",
       "1                 0                 0             ...               \n",
       "2                 0                 0             ...               \n",
       "3                 0                 0             ...               \n",
       "4                 0                 0             ...               \n",
       "\n",
       "   age-hours_(12.111, 909.9]  age-hours_(909.9, 1798.8]  \\\n",
       "0                          0                          1   \n",
       "1                          1                          0   \n",
       "2                          0                          1   \n",
       "3                          0                          0   \n",
       "4                          0                          1   \n",
       "\n",
       "   age-hours_(1798.8, 2687.7]  age-hours_(2687.7, 3576.6]  \\\n",
       "0                           0                           0   \n",
       "1                           0                           0   \n",
       "2                           0                           0   \n",
       "3                           1                           0   \n",
       "4                           0                           0   \n",
       "\n",
       "   age-hours_(3576.6, 4465.5]  age-hours_(4465.5, 5354.4]  \\\n",
       "0                           0                           0   \n",
       "1                           0                           0   \n",
       "2                           0                           0   \n",
       "3                           0                           0   \n",
       "4                           0                           0   \n",
       "\n",
       "   age-hours_(5354.4, 6243.3]  age-hours_(6243.3, 7132.2]  \\\n",
       "0                           0                           0   \n",
       "1                           0                           0   \n",
       "2                           0                           0   \n",
       "3                           0                           0   \n",
       "4                           0                           0   \n",
       "\n",
       "   age-hours_(7132.2, 8021.1]  age-hours_(8021.1, 8910.0]  \n",
       "0                           0                           0  \n",
       "1                           0                           0  \n",
       "2                           0                           0  \n",
       "3                           0                           0  \n",
       "4                           0                           0  \n",
       "\n",
       "[5 rows x 163 columns]"
      ]
     },
     "execution_count": 124,
     "metadata": {},
     "output_type": "execute_result"
    }
   ],
   "source": [
    "# One Hot Encoded (dummy variable creation) for all labels before performing Machine Learning\n",
    "one_hot_cols = dataset_bin.columns.tolist()\n",
    "one_hot_cols.remove('predclass')\n",
    "dataset_bin_enc = pd.get_dummies(dataset_bin, columns=one_hot_cols)\n",
    "dataset_bin_enc.head()"
   ]
  },
  {
   "cell_type": "code",
   "execution_count": 125,
   "metadata": {},
   "outputs": [
    {
     "data": {
      "text/html": [
       "<div>\n",
       "<style scoped>\n",
       "    .dataframe tbody tr th:only-of-type {\n",
       "        vertical-align: middle;\n",
       "    }\n",
       "\n",
       "    .dataframe tbody tr th {\n",
       "        vertical-align: top;\n",
       "    }\n",
       "\n",
       "    .dataframe thead th {\n",
       "        text-align: right;\n",
       "    }\n",
       "</style>\n",
       "<table border=\"1\" class=\"dataframe\">\n",
       "  <thead>\n",
       "    <tr style=\"text-align: right;\">\n",
       "      <th></th>\n",
       "      <th>predclass</th>\n",
       "      <th>age</th>\n",
       "      <th>workclass</th>\n",
       "      <th>occupation</th>\n",
       "      <th>native-country</th>\n",
       "      <th>education</th>\n",
       "      <th>marital-status</th>\n",
       "      <th>fnlwgt</th>\n",
       "      <th>education-num</th>\n",
       "      <th>hours-per-week</th>\n",
       "      <th>capital-gain</th>\n",
       "      <th>capital-loss</th>\n",
       "      <th>sex</th>\n",
       "      <th>race</th>\n",
       "      <th>relationship</th>\n",
       "      <th>age-hours</th>\n",
       "    </tr>\n",
       "  </thead>\n",
       "  <tbody>\n",
       "    <tr>\n",
       "      <th>0</th>\n",
       "      <td>0</td>\n",
       "      <td>22</td>\n",
       "      <td>7</td>\n",
       "      <td>1</td>\n",
       "      <td>39</td>\n",
       "      <td>9</td>\n",
       "      <td>4</td>\n",
       "      <td>3461</td>\n",
       "      <td>12</td>\n",
       "      <td>39</td>\n",
       "      <td>27</td>\n",
       "      <td>0</td>\n",
       "      <td>1</td>\n",
       "      <td>4</td>\n",
       "      <td>1</td>\n",
       "      <td>695</td>\n",
       "    </tr>\n",
       "    <tr>\n",
       "      <th>1</th>\n",
       "      <td>0</td>\n",
       "      <td>33</td>\n",
       "      <td>6</td>\n",
       "      <td>4</td>\n",
       "      <td>39</td>\n",
       "      <td>9</td>\n",
       "      <td>2</td>\n",
       "      <td>3788</td>\n",
       "      <td>12</td>\n",
       "      <td>12</td>\n",
       "      <td>0</td>\n",
       "      <td>0</td>\n",
       "      <td>1</td>\n",
       "      <td>4</td>\n",
       "      <td>0</td>\n",
       "      <td>334</td>\n",
       "    </tr>\n",
       "    <tr>\n",
       "      <th>2</th>\n",
       "      <td>0</td>\n",
       "      <td>21</td>\n",
       "      <td>4</td>\n",
       "      <td>6</td>\n",
       "      <td>39</td>\n",
       "      <td>11</td>\n",
       "      <td>0</td>\n",
       "      <td>18342</td>\n",
       "      <td>8</td>\n",
       "      <td>39</td>\n",
       "      <td>0</td>\n",
       "      <td>0</td>\n",
       "      <td>1</td>\n",
       "      <td>4</td>\n",
       "      <td>1</td>\n",
       "      <td>683</td>\n",
       "    </tr>\n",
       "    <tr>\n",
       "      <th>3</th>\n",
       "      <td>0</td>\n",
       "      <td>36</td>\n",
       "      <td>4</td>\n",
       "      <td>6</td>\n",
       "      <td>39</td>\n",
       "      <td>1</td>\n",
       "      <td>2</td>\n",
       "      <td>19995</td>\n",
       "      <td>6</td>\n",
       "      <td>39</td>\n",
       "      <td>0</td>\n",
       "      <td>0</td>\n",
       "      <td>1</td>\n",
       "      <td>2</td>\n",
       "      <td>0</td>\n",
       "      <td>890</td>\n",
       "    </tr>\n",
       "    <tr>\n",
       "      <th>4</th>\n",
       "      <td>0</td>\n",
       "      <td>11</td>\n",
       "      <td>4</td>\n",
       "      <td>10</td>\n",
       "      <td>5</td>\n",
       "      <td>9</td>\n",
       "      <td>2</td>\n",
       "      <td>25405</td>\n",
       "      <td>12</td>\n",
       "      <td>39</td>\n",
       "      <td>0</td>\n",
       "      <td>0</td>\n",
       "      <td>0</td>\n",
       "      <td>2</td>\n",
       "      <td>5</td>\n",
       "      <td>530</td>\n",
       "    </tr>\n",
       "  </tbody>\n",
       "</table>\n",
       "</div>"
      ],
      "text/plain": [
       "   predclass  age  workclass  occupation  native-country  education  \\\n",
       "0          0   22          7           1              39          9   \n",
       "1          0   33          6           4              39          9   \n",
       "2          0   21          4           6              39         11   \n",
       "3          0   36          4           6              39          1   \n",
       "4          0   11          4          10               5          9   \n",
       "\n",
       "   marital-status  fnlwgt  education-num  hours-per-week  capital-gain  \\\n",
       "0               4    3461             12              39            27   \n",
       "1               2    3788             12              12             0   \n",
       "2               0   18342              8              39             0   \n",
       "3               2   19995              6              39             0   \n",
       "4               2   25405             12              39             0   \n",
       "\n",
       "   capital-loss  sex  race  relationship  age-hours  \n",
       "0             0    1     4             1        695  \n",
       "1             0    1     4             0        334  \n",
       "2             0    1     4             1        683  \n",
       "3             0    1     2             0        890  \n",
       "4             0    0     2             5        530  "
      ]
     },
     "execution_count": 125,
     "metadata": {},
     "output_type": "execute_result"
    }
   ],
   "source": [
    "# Label Encode all labels\n",
    "dataset_con_enc = dataset_con.apply(LabelEncoder().fit_transform)\n",
    "dataset_con_enc.head()"
   ]
  },
  {
   "cell_type": "code",
   "execution_count": 139,
   "metadata": {},
   "outputs": [
    {
     "data": {
      "text/plain": [
       "StandardScaler(copy=True, with_mean=True, with_std=True)"
      ]
     },
     "execution_count": 139,
     "metadata": {},
     "output_type": "execute_result"
    }
   ],
   "source": [
    "#apply standard scaler\n",
    "from sklearn import preprocessing\n",
    "std_scale = preprocessing.StandardScaler().fit(dataset_bin_enc.drop('predclass', axis=1))\n",
    "std_scale"
   ]
  },
  {
   "cell_type": "code",
   "execution_count": 140,
   "metadata": {},
   "outputs": [
    {
     "data": {
      "text/plain": [
       "array([[-0.45679451, -0.46508752, -0.47916144, ..., -0.01357577,\n",
       "        -0.00639922, -0.00639922],\n",
       "       [-0.45679451, -0.46508752, -0.47916144, ..., -0.01357577,\n",
       "        -0.00639922, -0.00639922],\n",
       "       [-0.45679451, -0.46508752,  2.08697927, ..., -0.01357577,\n",
       "        -0.00639922, -0.00639922],\n",
       "       ...,\n",
       "       [-0.45679451, -0.46508752,  2.08697927, ..., -0.01357577,\n",
       "        -0.00639922, -0.00639922],\n",
       "       [-0.45679451, -0.46508752, -0.47916144, ..., -0.01357577,\n",
       "        -0.00639922, -0.00639922],\n",
       "       [-0.45679451, -0.46508752,  2.08697927, ..., -0.01357577,\n",
       "        -0.00639922, -0.00639922]])"
      ]
     },
     "execution_count": 140,
     "metadata": {},
     "output_type": "execute_result"
    }
   ],
   "source": [
    "X = std_scale.transform(dataset_bin_enc.drop('predclass', axis=1))\n",
    "X"
   ]
  },
  {
   "cell_type": "code",
   "execution_count": 141,
   "metadata": {},
   "outputs": [
    {
     "data": {
      "text/plain": [
       "StandardScaler(copy=True, with_mean=True, with_std=True)"
      ]
     },
     "execution_count": 141,
     "metadata": {},
     "output_type": "execute_result"
    }
   ],
   "source": [
    "std_scale = preprocessing.StandardScaler().fit(dataset_con_enc.drop('predclass', axis=1))\n",
    "std_scale"
   ]
  },
  {
   "cell_type": "code",
   "execution_count": 142,
   "metadata": {},
   "outputs": [
    {
     "data": {
      "text/plain": [
       "array([[ 0.02599598,  2.13735875, -1.3184598 , ...,  0.39238393,\n",
       "        -0.2766849 ,  0.06278054],\n",
       "       [ 0.82830842,  1.45440066, -0.60931809, ...,  0.39238393,\n",
       "        -0.9008521 , -1.34611536],\n",
       "       [-0.04694151,  0.08848448, -0.13655694, ...,  0.39238393,\n",
       "        -0.2766849 ,  0.01594744],\n",
       "       ...,\n",
       "       [-0.04694151,  0.08848448,  0.80896535, ...,  0.39238393,\n",
       "        -0.9008521 ,  0.54281987],\n",
       "       [ 0.39068346,  0.08848448, -1.3184598 , ..., -3.15381034,\n",
       "         0.97164949,  0.33987641],\n",
       "       [-0.26575399,  0.77144257, -0.60931809, ...,  0.39238393,\n",
       "        -0.9008521 ,  0.79259643]])"
      ]
     },
     "execution_count": 142,
     "metadata": {},
     "output_type": "execute_result"
    }
   ],
   "source": [
    "X = std_scale.transform(dataset_con_enc.drop('predclass', axis=1))\n",
    "X"
   ]
  },
  {
   "cell_type": "code",
   "execution_count": 143,
   "metadata": {},
   "outputs": [],
   "source": [
    "std_scale = preprocessing.StandardScaler().fit(dataset_con_enc.drop('predclass', axis=1))\n",
    "X = std_scale.transform(dataset_con_enc.drop('predclass', axis=1))"
   ]
  },
  {
   "cell_type": "code",
   "execution_count": 144,
   "metadata": {},
   "outputs": [
    {
     "data": {
      "text/plain": [
       "0    0\n",
       "1    0\n",
       "2    0\n",
       "3    0\n",
       "4    0\n",
       "Name: predclass, dtype: int64"
      ]
     },
     "execution_count": 144,
     "metadata": {},
     "output_type": "execute_result"
    }
   ],
   "source": [
    "y = dataset_con_enc['predclass']\n",
    "y.head()"
   ]
  },
  {
   "cell_type": "code",
   "execution_count": 150,
   "metadata": {},
   "outputs": [
    {
     "data": {
      "text/html": [
       "<div>\n",
       "<style scoped>\n",
       "    .dataframe tbody tr th:only-of-type {\n",
       "        vertical-align: middle;\n",
       "    }\n",
       "\n",
       "    .dataframe tbody tr th {\n",
       "        vertical-align: top;\n",
       "    }\n",
       "\n",
       "    .dataframe thead th {\n",
       "        text-align: right;\n",
       "    }\n",
       "</style>\n",
       "<table border=\"1\" class=\"dataframe\">\n",
       "  <thead>\n",
       "    <tr style=\"text-align: right;\">\n",
       "      <th></th>\n",
       "      <th>predclass</th>\n",
       "      <th>age</th>\n",
       "      <th>workclass</th>\n",
       "      <th>occupation</th>\n",
       "      <th>native-country</th>\n",
       "      <th>education</th>\n",
       "      <th>marital-status</th>\n",
       "      <th>fnlwgt</th>\n",
       "      <th>education-num</th>\n",
       "      <th>hours-per-week</th>\n",
       "      <th>capital-gain</th>\n",
       "      <th>capital-loss</th>\n",
       "      <th>sex</th>\n",
       "      <th>race</th>\n",
       "      <th>relationship</th>\n",
       "      <th>age-hours</th>\n",
       "    </tr>\n",
       "  </thead>\n",
       "  <tbody>\n",
       "    <tr>\n",
       "      <th>0</th>\n",
       "      <td>0</td>\n",
       "      <td>22</td>\n",
       "      <td>7</td>\n",
       "      <td>1</td>\n",
       "      <td>39</td>\n",
       "      <td>9</td>\n",
       "      <td>4</td>\n",
       "      <td>3461</td>\n",
       "      <td>12</td>\n",
       "      <td>39</td>\n",
       "      <td>27</td>\n",
       "      <td>0</td>\n",
       "      <td>1</td>\n",
       "      <td>4</td>\n",
       "      <td>1</td>\n",
       "      <td>695</td>\n",
       "    </tr>\n",
       "    <tr>\n",
       "      <th>1</th>\n",
       "      <td>0</td>\n",
       "      <td>33</td>\n",
       "      <td>6</td>\n",
       "      <td>4</td>\n",
       "      <td>39</td>\n",
       "      <td>9</td>\n",
       "      <td>2</td>\n",
       "      <td>3788</td>\n",
       "      <td>12</td>\n",
       "      <td>12</td>\n",
       "      <td>0</td>\n",
       "      <td>0</td>\n",
       "      <td>1</td>\n",
       "      <td>4</td>\n",
       "      <td>0</td>\n",
       "      <td>334</td>\n",
       "    </tr>\n",
       "  </tbody>\n",
       "</table>\n",
       "</div>"
      ],
      "text/plain": [
       "   predclass  age  workclass  occupation  native-country  education  \\\n",
       "0          0   22          7           1              39          9   \n",
       "1          0   33          6           4              39          9   \n",
       "\n",
       "   marital-status  fnlwgt  education-num  hours-per-week  capital-gain  \\\n",
       "0               4    3461             12              39            27   \n",
       "1               2    3788             12              12             0   \n",
       "\n",
       "   capital-loss  sex  race  relationship  age-hours  \n",
       "0             0    1     4             1        695  \n",
       "1             0    1     4             0        334  "
      ]
     },
     "execution_count": 150,
     "metadata": {},
     "output_type": "execute_result"
    }
   ],
   "source": [
    "selected_dataset = dataset_con_enc\n",
    "selected_dataset.head(2)"
   ]
  },
  {
   "cell_type": "code",
   "execution_count": 151,
   "metadata": {},
   "outputs": [],
   "source": [
    "# Splitting the Training and Test data sets\n",
    "from sklearn import cross_validation as cv\n",
    "train, test = cv.train_test_split(selected_dataset,test_size=0.20,random_state=1234)"
   ]
  },
  {
   "cell_type": "code",
   "execution_count": 152,
   "metadata": {},
   "outputs": [
    {
     "data": {
      "text/html": [
       "<div>\n",
       "<style scoped>\n",
       "    .dataframe tbody tr th:only-of-type {\n",
       "        vertical-align: middle;\n",
       "    }\n",
       "\n",
       "    .dataframe tbody tr th {\n",
       "        vertical-align: top;\n",
       "    }\n",
       "\n",
       "    .dataframe thead th {\n",
       "        text-align: right;\n",
       "    }\n",
       "</style>\n",
       "<table border=\"1\" class=\"dataframe\">\n",
       "  <thead>\n",
       "    <tr style=\"text-align: right;\">\n",
       "      <th></th>\n",
       "      <th>predclass</th>\n",
       "      <th>age</th>\n",
       "      <th>workclass</th>\n",
       "      <th>occupation</th>\n",
       "      <th>native-country</th>\n",
       "      <th>education</th>\n",
       "      <th>marital-status</th>\n",
       "      <th>fnlwgt</th>\n",
       "      <th>education-num</th>\n",
       "      <th>hours-per-week</th>\n",
       "      <th>capital-gain</th>\n",
       "      <th>capital-loss</th>\n",
       "      <th>sex</th>\n",
       "      <th>race</th>\n",
       "      <th>relationship</th>\n",
       "      <th>age-hours</th>\n",
       "    </tr>\n",
       "  </thead>\n",
       "  <tbody>\n",
       "    <tr>\n",
       "      <th>32722</th>\n",
       "      <td>0</td>\n",
       "      <td>38</td>\n",
       "      <td>4</td>\n",
       "      <td>8</td>\n",
       "      <td>39</td>\n",
       "      <td>1</td>\n",
       "      <td>2</td>\n",
       "      <td>1527</td>\n",
       "      <td>6</td>\n",
       "      <td>29</td>\n",
       "      <td>0</td>\n",
       "      <td>0</td>\n",
       "      <td>1</td>\n",
       "      <td>4</td>\n",
       "      <td>0</td>\n",
       "      <td>726</td>\n",
       "    </tr>\n",
       "    <tr>\n",
       "      <th>36171</th>\n",
       "      <td>0</td>\n",
       "      <td>6</td>\n",
       "      <td>4</td>\n",
       "      <td>8</td>\n",
       "      <td>39</td>\n",
       "      <td>15</td>\n",
       "      <td>4</td>\n",
       "      <td>25700</td>\n",
       "      <td>9</td>\n",
       "      <td>39</td>\n",
       "      <td>0</td>\n",
       "      <td>0</td>\n",
       "      <td>1</td>\n",
       "      <td>4</td>\n",
       "      <td>3</td>\n",
       "      <td>445</td>\n",
       "    </tr>\n",
       "    <tr>\n",
       "      <th>19838</th>\n",
       "      <td>0</td>\n",
       "      <td>7</td>\n",
       "      <td>6</td>\n",
       "      <td>14</td>\n",
       "      <td>39</td>\n",
       "      <td>15</td>\n",
       "      <td>2</td>\n",
       "      <td>11867</td>\n",
       "      <td>9</td>\n",
       "      <td>59</td>\n",
       "      <td>0</td>\n",
       "      <td>0</td>\n",
       "      <td>1</td>\n",
       "      <td>4</td>\n",
       "      <td>0</td>\n",
       "      <td>654</td>\n",
       "    </tr>\n",
       "    <tr>\n",
       "      <th>4878</th>\n",
       "      <td>1</td>\n",
       "      <td>29</td>\n",
       "      <td>4</td>\n",
       "      <td>4</td>\n",
       "      <td>39</td>\n",
       "      <td>15</td>\n",
       "      <td>2</td>\n",
       "      <td>3189</td>\n",
       "      <td>9</td>\n",
       "      <td>39</td>\n",
       "      <td>0</td>\n",
       "      <td>0</td>\n",
       "      <td>0</td>\n",
       "      <td>4</td>\n",
       "      <td>5</td>\n",
       "      <td>796</td>\n",
       "    </tr>\n",
       "    <tr>\n",
       "      <th>45985</th>\n",
       "      <td>0</td>\n",
       "      <td>30</td>\n",
       "      <td>2</td>\n",
       "      <td>10</td>\n",
       "      <td>39</td>\n",
       "      <td>9</td>\n",
       "      <td>4</td>\n",
       "      <td>22579</td>\n",
       "      <td>12</td>\n",
       "      <td>49</td>\n",
       "      <td>0</td>\n",
       "      <td>0</td>\n",
       "      <td>0</td>\n",
       "      <td>4</td>\n",
       "      <td>1</td>\n",
       "      <td>964</td>\n",
       "    </tr>\n",
       "  </tbody>\n",
       "</table>\n",
       "</div>"
      ],
      "text/plain": [
       "       predclass  age  workclass  occupation  native-country  education  \\\n",
       "32722          0   38          4           8              39          1   \n",
       "36171          0    6          4           8              39         15   \n",
       "19838          0    7          6          14              39         15   \n",
       "4878           1   29          4           4              39         15   \n",
       "45985          0   30          2          10              39          9   \n",
       "\n",
       "       marital-status  fnlwgt  education-num  hours-per-week  capital-gain  \\\n",
       "32722               2    1527              6              29             0   \n",
       "36171               4   25700              9              39             0   \n",
       "19838               2   11867              9              59             0   \n",
       "4878                2    3189              9              39             0   \n",
       "45985               4   22579             12              49             0   \n",
       "\n",
       "       capital-loss  sex  race  relationship  age-hours  \n",
       "32722             0    1     4             0        726  \n",
       "36171             0    1     4             3        445  \n",
       "19838             0    1     4             0        654  \n",
       "4878              0    0     4             5        796  \n",
       "45985             0    0     4             1        964  "
      ]
     },
     "execution_count": 152,
     "metadata": {},
     "output_type": "execute_result"
    }
   ],
   "source": [
    "train.head()"
   ]
  },
  {
   "cell_type": "code",
   "execution_count": 153,
   "metadata": {},
   "outputs": [
    {
     "data": {
      "text/html": [
       "<div>\n",
       "<style scoped>\n",
       "    .dataframe tbody tr th:only-of-type {\n",
       "        vertical-align: middle;\n",
       "    }\n",
       "\n",
       "    .dataframe tbody tr th {\n",
       "        vertical-align: top;\n",
       "    }\n",
       "\n",
       "    .dataframe thead th {\n",
       "        text-align: right;\n",
       "    }\n",
       "</style>\n",
       "<table border=\"1\" class=\"dataframe\">\n",
       "  <thead>\n",
       "    <tr style=\"text-align: right;\">\n",
       "      <th></th>\n",
       "      <th>predclass</th>\n",
       "      <th>age</th>\n",
       "      <th>workclass</th>\n",
       "      <th>occupation</th>\n",
       "      <th>native-country</th>\n",
       "      <th>education</th>\n",
       "      <th>marital-status</th>\n",
       "      <th>fnlwgt</th>\n",
       "      <th>education-num</th>\n",
       "      <th>hours-per-week</th>\n",
       "      <th>capital-gain</th>\n",
       "      <th>capital-loss</th>\n",
       "      <th>sex</th>\n",
       "      <th>race</th>\n",
       "      <th>relationship</th>\n",
       "      <th>age-hours</th>\n",
       "    </tr>\n",
       "  </thead>\n",
       "  <tbody>\n",
       "    <tr>\n",
       "      <th>48406</th>\n",
       "      <td>0</td>\n",
       "      <td>20</td>\n",
       "      <td>4</td>\n",
       "      <td>6</td>\n",
       "      <td>26</td>\n",
       "      <td>15</td>\n",
       "      <td>2</td>\n",
       "      <td>19503</td>\n",
       "      <td>9</td>\n",
       "      <td>39</td>\n",
       "      <td>0</td>\n",
       "      <td>0</td>\n",
       "      <td>1</td>\n",
       "      <td>3</td>\n",
       "      <td>0</td>\n",
       "      <td>669</td>\n",
       "    </tr>\n",
       "    <tr>\n",
       "      <th>39568</th>\n",
       "      <td>0</td>\n",
       "      <td>25</td>\n",
       "      <td>4</td>\n",
       "      <td>1</td>\n",
       "      <td>39</td>\n",
       "      <td>15</td>\n",
       "      <td>0</td>\n",
       "      <td>2237</td>\n",
       "      <td>9</td>\n",
       "      <td>39</td>\n",
       "      <td>0</td>\n",
       "      <td>0</td>\n",
       "      <td>0</td>\n",
       "      <td>4</td>\n",
       "      <td>4</td>\n",
       "      <td>738</td>\n",
       "    </tr>\n",
       "    <tr>\n",
       "      <th>8866</th>\n",
       "      <td>0</td>\n",
       "      <td>40</td>\n",
       "      <td>6</td>\n",
       "      <td>5</td>\n",
       "      <td>39</td>\n",
       "      <td>7</td>\n",
       "      <td>3</td>\n",
       "      <td>12992</td>\n",
       "      <td>11</td>\n",
       "      <td>39</td>\n",
       "      <td>0</td>\n",
       "      <td>0</td>\n",
       "      <td>1</td>\n",
       "      <td>0</td>\n",
       "      <td>4</td>\n",
       "      <td>943</td>\n",
       "    </tr>\n",
       "    <tr>\n",
       "      <th>47147</th>\n",
       "      <td>0</td>\n",
       "      <td>40</td>\n",
       "      <td>6</td>\n",
       "      <td>1</td>\n",
       "      <td>39</td>\n",
       "      <td>11</td>\n",
       "      <td>2</td>\n",
       "      <td>4868</td>\n",
       "      <td>8</td>\n",
       "      <td>15</td>\n",
       "      <td>0</td>\n",
       "      <td>0</td>\n",
       "      <td>0</td>\n",
       "      <td>4</td>\n",
       "      <td>5</td>\n",
       "      <td>442</td>\n",
       "    </tr>\n",
       "    <tr>\n",
       "      <th>29582</th>\n",
       "      <td>0</td>\n",
       "      <td>6</td>\n",
       "      <td>0</td>\n",
       "      <td>0</td>\n",
       "      <td>39</td>\n",
       "      <td>15</td>\n",
       "      <td>4</td>\n",
       "      <td>20277</td>\n",
       "      <td>9</td>\n",
       "      <td>29</td>\n",
       "      <td>0</td>\n",
       "      <td>0</td>\n",
       "      <td>1</td>\n",
       "      <td>4</td>\n",
       "      <td>3</td>\n",
       "      <td>351</td>\n",
       "    </tr>\n",
       "  </tbody>\n",
       "</table>\n",
       "</div>"
      ],
      "text/plain": [
       "       predclass  age  workclass  occupation  native-country  education  \\\n",
       "48406          0   20          4           6              26         15   \n",
       "39568          0   25          4           1              39         15   \n",
       "8866           0   40          6           5              39          7   \n",
       "47147          0   40          6           1              39         11   \n",
       "29582          0    6          0           0              39         15   \n",
       "\n",
       "       marital-status  fnlwgt  education-num  hours-per-week  capital-gain  \\\n",
       "48406               2   19503              9              39             0   \n",
       "39568               0    2237              9              39             0   \n",
       "8866                3   12992             11              39             0   \n",
       "47147               2    4868              8              15             0   \n",
       "29582               4   20277              9              29             0   \n",
       "\n",
       "       capital-loss  sex  race  relationship  age-hours  \n",
       "48406             0    1     3             0        669  \n",
       "39568             0    0     4             4        738  \n",
       "8866              0    1     0             4        943  \n",
       "47147             0    0     4             5        442  \n",
       "29582             0    1     4             3        351  "
      ]
     },
     "execution_count": 153,
     "metadata": {},
     "output_type": "execute_result"
    }
   ],
   "source": [
    "test.head()"
   ]
  },
  {
   "cell_type": "code",
   "execution_count": 154,
   "metadata": {},
   "outputs": [],
   "source": [
    "#drop the na values\n",
    "train = train.dropna(axis=0)\n",
    "test = test.dropna(axis=0)"
   ]
  },
  {
   "cell_type": "code",
   "execution_count": 155,
   "metadata": {},
   "outputs": [],
   "source": [
    "X_train_w_label = train\n",
    "X_train = train.drop(['predclass'], axis=1)\n",
    "y_train = train['predclass'].astype('int64')\n",
    "X_test  = test.drop(['predclass'], axis=1)\n",
    "y_test  = test['predclass'].astype('int64')"
   ]
  },
  {
   "cell_type": "code",
   "execution_count": 156,
   "metadata": {},
   "outputs": [
    {
     "data": {
      "text/plain": [
       "(39073, 15)"
      ]
     },
     "execution_count": 156,
     "metadata": {},
     "output_type": "execute_result"
    }
   ],
   "source": [
    "X_train.shape"
   ]
  },
  {
   "cell_type": "code",
   "execution_count": 157,
   "metadata": {},
   "outputs": [
    {
     "data": {
      "text/html": [
       "<div>\n",
       "<style scoped>\n",
       "    .dataframe tbody tr th:only-of-type {\n",
       "        vertical-align: middle;\n",
       "    }\n",
       "\n",
       "    .dataframe tbody tr th {\n",
       "        vertical-align: top;\n",
       "    }\n",
       "\n",
       "    .dataframe thead th {\n",
       "        text-align: right;\n",
       "    }\n",
       "</style>\n",
       "<table border=\"1\" class=\"dataframe\">\n",
       "  <thead>\n",
       "    <tr style=\"text-align: right;\">\n",
       "      <th></th>\n",
       "      <th>age</th>\n",
       "      <th>workclass</th>\n",
       "      <th>occupation</th>\n",
       "      <th>native-country</th>\n",
       "      <th>education</th>\n",
       "      <th>marital-status</th>\n",
       "      <th>fnlwgt</th>\n",
       "      <th>education-num</th>\n",
       "      <th>hours-per-week</th>\n",
       "      <th>capital-gain</th>\n",
       "      <th>capital-loss</th>\n",
       "      <th>sex</th>\n",
       "      <th>race</th>\n",
       "      <th>relationship</th>\n",
       "      <th>age-hours</th>\n",
       "    </tr>\n",
       "  </thead>\n",
       "  <tbody>\n",
       "    <tr>\n",
       "      <th>32722</th>\n",
       "      <td>38</td>\n",
       "      <td>4</td>\n",
       "      <td>8</td>\n",
       "      <td>39</td>\n",
       "      <td>1</td>\n",
       "      <td>2</td>\n",
       "      <td>1527</td>\n",
       "      <td>6</td>\n",
       "      <td>29</td>\n",
       "      <td>0</td>\n",
       "      <td>0</td>\n",
       "      <td>1</td>\n",
       "      <td>4</td>\n",
       "      <td>0</td>\n",
       "      <td>726</td>\n",
       "    </tr>\n",
       "    <tr>\n",
       "      <th>36171</th>\n",
       "      <td>6</td>\n",
       "      <td>4</td>\n",
       "      <td>8</td>\n",
       "      <td>39</td>\n",
       "      <td>15</td>\n",
       "      <td>4</td>\n",
       "      <td>25700</td>\n",
       "      <td>9</td>\n",
       "      <td>39</td>\n",
       "      <td>0</td>\n",
       "      <td>0</td>\n",
       "      <td>1</td>\n",
       "      <td>4</td>\n",
       "      <td>3</td>\n",
       "      <td>445</td>\n",
       "    </tr>\n",
       "    <tr>\n",
       "      <th>19838</th>\n",
       "      <td>7</td>\n",
       "      <td>6</td>\n",
       "      <td>14</td>\n",
       "      <td>39</td>\n",
       "      <td>15</td>\n",
       "      <td>2</td>\n",
       "      <td>11867</td>\n",
       "      <td>9</td>\n",
       "      <td>59</td>\n",
       "      <td>0</td>\n",
       "      <td>0</td>\n",
       "      <td>1</td>\n",
       "      <td>4</td>\n",
       "      <td>0</td>\n",
       "      <td>654</td>\n",
       "    </tr>\n",
       "    <tr>\n",
       "      <th>4878</th>\n",
       "      <td>29</td>\n",
       "      <td>4</td>\n",
       "      <td>4</td>\n",
       "      <td>39</td>\n",
       "      <td>15</td>\n",
       "      <td>2</td>\n",
       "      <td>3189</td>\n",
       "      <td>9</td>\n",
       "      <td>39</td>\n",
       "      <td>0</td>\n",
       "      <td>0</td>\n",
       "      <td>0</td>\n",
       "      <td>4</td>\n",
       "      <td>5</td>\n",
       "      <td>796</td>\n",
       "    </tr>\n",
       "    <tr>\n",
       "      <th>45985</th>\n",
       "      <td>30</td>\n",
       "      <td>2</td>\n",
       "      <td>10</td>\n",
       "      <td>39</td>\n",
       "      <td>9</td>\n",
       "      <td>4</td>\n",
       "      <td>22579</td>\n",
       "      <td>12</td>\n",
       "      <td>49</td>\n",
       "      <td>0</td>\n",
       "      <td>0</td>\n",
       "      <td>0</td>\n",
       "      <td>4</td>\n",
       "      <td>1</td>\n",
       "      <td>964</td>\n",
       "    </tr>\n",
       "  </tbody>\n",
       "</table>\n",
       "</div>"
      ],
      "text/plain": [
       "       age  workclass  occupation  native-country  education  marital-status  \\\n",
       "32722   38          4           8              39          1               2   \n",
       "36171    6          4           8              39         15               4   \n",
       "19838    7          6          14              39         15               2   \n",
       "4878    29          4           4              39         15               2   \n",
       "45985   30          2          10              39          9               4   \n",
       "\n",
       "       fnlwgt  education-num  hours-per-week  capital-gain  capital-loss  sex  \\\n",
       "32722    1527              6              29             0             0    1   \n",
       "36171   25700              9              39             0             0    1   \n",
       "19838   11867              9              59             0             0    1   \n",
       "4878     3189              9              39             0             0    0   \n",
       "45985   22579             12              49             0             0    0   \n",
       "\n",
       "       race  relationship  age-hours  \n",
       "32722     4             0        726  \n",
       "36171     4             3        445  \n",
       "19838     4             0        654  \n",
       "4878      4             5        796  \n",
       "45985     4             1        964  "
      ]
     },
     "execution_count": 157,
     "metadata": {},
     "output_type": "execute_result"
    }
   ],
   "source": [
    "X_train.head()"
   ]
  },
  {
   "cell_type": "code",
   "execution_count": 158,
   "metadata": {},
   "outputs": [
    {
     "data": {
      "text/plain": [
       "32722    0\n",
       "36171    0\n",
       "19838    0\n",
       "4878     1\n",
       "45985    0\n",
       "Name: predclass, dtype: int64"
      ]
     },
     "execution_count": 158,
     "metadata": {},
     "output_type": "execute_result"
    }
   ],
   "source": [
    "y_train.head()"
   ]
  },
  {
   "cell_type": "markdown",
   "metadata": {},
   "source": [
    "<H3> Different Algorithms</H3>"
   ]
  },
  {
   "cell_type": "code",
   "execution_count": 186,
   "metadata": {},
   "outputs": [],
   "source": [
    "# Function that runs the requested algorithm and returns the accuracy metrics\n",
    "def fit_ml_algo(algo, X_train, y_train, X_test, cv):\n",
    "    # One Pass\n",
    "    model = algo.fit(X_train, y_train)\n",
    "    test_pred = model.predict(X_test)\n",
    "    if (isinstance(algo, (LogisticRegression, \n",
    "                          KNeighborsClassifier, \n",
    "                          DecisionTreeClassifier, \n",
    "                          RandomForestClassifier,\n",
    "                          GradientBoostingClassifier))):\n",
    "        probs = model.predict_proba(X_test)[:,1]\n",
    "    else:\n",
    "        probs = \"Not Available\"\n",
    "    acc = round(model.score(X_test, y_test) * 100, 2) \n",
    "    # CV \n",
    "    train_pred = model_selection.cross_val_predict(algo, \n",
    "                                                  X_train, \n",
    "                                                  y_train, \n",
    "                                                  cv=cv, \n",
    "                                                  n_jobs = -1)\n",
    "    acc_cv = round(metrics.accuracy_score(y_train, train_pred) * 100, 2)\n",
    "    return train_pred, test_pred, acc, acc_cv, probs"
   ]
  },
  {
   "cell_type": "code",
   "execution_count": 187,
   "metadata": {},
   "outputs": [],
   "source": [
    "# Logistic Regression - Random Search for Hyperparameters\n",
    "\n",
    "# Utility function to report best scores\n",
    "def report(results, n_top=5):\n",
    "    for i in range(1, n_top + 1):\n",
    "        candidates = np.flatnonzero(results['rank_test_score'] == i)\n",
    "        for candidate in candidates:\n",
    "            print(\"Model with rank: {0}\".format(i))\n",
    "            print(\"Mean validation score: {0:.3f} (std: {1:.3f})\".format(\n",
    "                  results['mean_test_score'][candidate],\n",
    "                  results['std_test_score'][candidate]))\n",
    "            print(\"Parameters: {0}\".format(results['params'][candidate]))\n",
    "            print(\"\")\n",
    "            \n"
   ]
  },
  {
   "cell_type": "code",
   "execution_count": 188,
   "metadata": {},
   "outputs": [],
   "source": [
    "# Specify parameters and distributions to sample from\n",
    "param_dist = {'penalty': ['l2', 'l1'], \n",
    "                         'class_weight': [None, 'balanced'],\n",
    "                         'C': np.logspace(-20, 20, 10000), \n",
    "                         'intercept_scaling': np.logspace(-20, 20, 10000)}\n",
    "\n"
   ]
  },
  {
   "cell_type": "code",
   "execution_count": 189,
   "metadata": {},
   "outputs": [
    {
     "name": "stderr",
     "output_type": "stream",
     "text": [
      "C:\\Users\\ARVIND\\Anaconda3\\lib\\site-packages\\sklearn\\linear_model\\logistic.py:1228: UserWarning: 'n_jobs' > 1 does not have any effect when 'solver' is set to 'liblinear'. Got 'n_jobs' = -1.\n",
      "  \" = {}.\".format(self.n_jobs))\n"
     ]
    },
    {
     "name": "stdout",
     "output_type": "stream",
     "text": [
      "Accuracy: 81.67\n",
      "Accuracy CV 10-Fold: 82.04\n"
     ]
    }
   ],
   "source": [
    "# Logistic Regression\n",
    "train_pred_log, test_pred_log, acc_log, acc_cv_log, probs_log = fit_ml_algo(LogisticRegression(n_jobs = -1), \n",
    "                                                                 X_train, \n",
    "                                                                 y_train, \n",
    "                                                                 X_test, \n",
    "                                                                 10)\n",
    "\n",
    "print(\"Accuracy: %s\" % acc_log)\n",
    "print(\"Accuracy CV 10-Fold: %s\" % acc_cv_log)"
   ]
  },
  {
   "cell_type": "code",
   "execution_count": 190,
   "metadata": {},
   "outputs": [
    {
     "name": "stdout",
     "output_type": "stream",
     "text": [
      "             precision    recall  f1-score   support\n",
      "\n",
      "          0       0.84      0.94      0.89     29771\n",
      "          1       0.70      0.43      0.53      9302\n",
      "\n",
      "avg / total       0.81      0.82      0.80     39073\n",
      "\n"
     ]
    }
   ],
   "source": [
    "print (metrics.classification_report(y_train, train_pred_log))"
   ]
  },
  {
   "cell_type": "code",
   "execution_count": 191,
   "metadata": {},
   "outputs": [
    {
     "name": "stdout",
     "output_type": "stream",
     "text": [
      "             precision    recall  f1-score   support\n",
      "\n",
      "          0       0.84      0.94      0.89      7384\n",
      "          1       0.70      0.43      0.53      2385\n",
      "\n",
      "avg / total       0.80      0.82      0.80      9769\n",
      "\n"
     ]
    }
   ],
   "source": [
    "print (metrics.classification_report(y_test, test_pred_log))"
   ]
  },
  {
   "cell_type": "code",
   "execution_count": 192,
   "metadata": {},
   "outputs": [
    {
     "name": "stdout",
     "output_type": "stream",
     "text": [
      "Accuracy: 74.55\n",
      "Accuracy CV 10-Fold: 75.18\n"
     ]
    }
   ],
   "source": [
    "# k-Nearest Neighbors\n",
    "train_pred_knn, test_pred_knn, acc_knn, acc_cv_knn, probs_knn = fit_ml_algo(KNeighborsClassifier(n_neighbors = 3,\n",
    "                                                                                                 n_jobs = -1), \n",
    "                                                                                                 X_train, \n",
    "                                                                                                 y_train, \n",
    "                                                                                                 X_test, \n",
    "                                                                                                 10)\n",
    "print(\"Accuracy: %s\" % acc_knn)\n",
    "print(\"Accuracy CV 10-Fold: %s\" % acc_cv_knn)"
   ]
  },
  {
   "cell_type": "code",
   "execution_count": 193,
   "metadata": {},
   "outputs": [
    {
     "name": "stdout",
     "output_type": "stream",
     "text": [
      "             precision    recall  f1-score   support\n",
      "\n",
      "          0       0.81      0.88      0.84     29771\n",
      "          1       0.47      0.34      0.39      9302\n",
      "\n",
      "avg / total       0.73      0.75      0.74     39073\n",
      "\n"
     ]
    }
   ],
   "source": [
    "print (metrics.classification_report(y_train, train_pred_knn))"
   ]
  },
  {
   "cell_type": "code",
   "execution_count": 185,
   "metadata": {},
   "outputs": [
    {
     "name": "stdout",
     "output_type": "stream",
     "text": [
      "             precision    recall  f1-score   support\n",
      "\n",
      "          0       0.80      0.88      0.84      7384\n",
      "          1       0.47      0.34      0.40      2385\n",
      "\n",
      "avg / total       0.72      0.75      0.73      9769\n",
      "\n"
     ]
    }
   ],
   "source": [
    "print (metrics.classification_report(y_test, test_pred_knn))"
   ]
  },
  {
   "cell_type": "code",
   "execution_count": 172,
   "metadata": {},
   "outputs": [
    {
     "name": "stdout",
     "output_type": "stream",
     "text": [
      "Accuracy: 80.63\n",
      "Accuracy CV 10-Fold: 81.45\n"
     ]
    }
   ],
   "source": [
    "# Decision Tree Classifier\n",
    "train_pred_dt, test_pred_dt, acc_dt, acc_cv_dt, probs_dt = fit_ml_algo(DecisionTreeClassifier(), \n",
    "                                                             X_train, \n",
    "                                                             y_train, \n",
    "                                                             X_test, \n",
    "                                                             10)\n",
    "print(\"Accuracy: %s\" % acc_dt)\n",
    "print(\"Accuracy CV 10-Fold: %s\" % acc_cv_dt)"
   ]
  },
  {
   "cell_type": "code",
   "execution_count": 182,
   "metadata": {},
   "outputs": [
    {
     "name": "stdout",
     "output_type": "stream",
     "text": [
      "             precision    recall  f1-score   support\n",
      "\n",
      "          0       0.88      0.88      0.88     29771\n",
      "          1       0.61      0.62      0.61      9302\n",
      "\n",
      "avg / total       0.82      0.81      0.81     39073\n",
      "\n"
     ]
    }
   ],
   "source": [
    "print (metrics.classification_report(y_train, train_pred_dt))"
   ]
  },
  {
   "cell_type": "code",
   "execution_count": 183,
   "metadata": {},
   "outputs": [
    {
     "name": "stdout",
     "output_type": "stream",
     "text": [
      "             precision    recall  f1-score   support\n",
      "\n",
      "          0       0.87      0.87      0.87      7384\n",
      "          1       0.60      0.61      0.61      2385\n",
      "\n",
      "avg / total       0.81      0.81      0.81      9769\n",
      "\n"
     ]
    }
   ],
   "source": [
    "print (metrics.classification_report(y_test, test_pred_dt))"
   ]
  },
  {
   "cell_type": "code",
   "execution_count": 174,
   "metadata": {},
   "outputs": [],
   "source": [
    "# Random Forest Classifier - Random Search for Hyperparameters\n",
    "\n",
    "# Utility function to report best scores\n",
    "def report(results, n_top=5):\n",
    "    for i in range(1, n_top + 1):\n",
    "        candidates = np.flatnonzero(results['rank_test_score'] == i)\n",
    "        for candidate in candidates:\n",
    "            print(\"Model with rank: {0}\".format(i))\n",
    "            print(\"Mean validation score: {0:.3f} (std: {1:.3f})\".format(\n",
    "                  results['mean_test_score'][candidate],\n",
    "                  results['std_test_score'][candidate]))\n",
    "            print(\"Parameters: {0}\".format(results['params'][candidate]))\n",
    "            print(\"\")\n",
    "            \n",
    "# Specify parameters and distributions to sample from\n",
    "param_dist = {\"max_depth\": [10, None],\n",
    "              \"max_features\": sp_randint(1, 11),\n",
    "              \"min_samples_split\": sp_randint(2, 20),\n",
    "              \"min_samples_leaf\": sp_randint(1, 11),\n",
    "              \"bootstrap\": [True, False],\n",
    "              \"criterion\": [\"gini\", \"entropy\"]}\n"
   ]
  },
  {
   "cell_type": "code",
   "execution_count": 175,
   "metadata": {},
   "outputs": [
    {
     "name": "stdout",
     "output_type": "stream",
     "text": [
      "Accuracy: 85.33\n",
      "Accuracy CV 10-Fold: 85.83\n"
     ]
    }
   ],
   "source": [
    "# Random Forest Classifier\n",
    "rfc = RandomForestClassifier(n_estimators=10, \n",
    "                             min_samples_leaf=2,\n",
    "                             min_samples_split=17, \n",
    "                             criterion='gini', \n",
    "                             max_features=8)\n",
    "train_pred_rf, test_pred_rf, acc_rf, acc_cv_rf, probs_rf = fit_ml_algo(rfc, \n",
    "                                                             X_train, \n",
    "                                                             y_train, \n",
    "                                                             X_test, \n",
    "                                                             10)\n",
    "print(\"Accuracy: %s\" % acc_rf)\n",
    "print(\"Accuracy CV 10-Fold: %s\" % acc_cv_rf)"
   ]
  },
  {
   "cell_type": "code",
   "execution_count": 176,
   "metadata": {},
   "outputs": [
    {
     "name": "stdout",
     "output_type": "stream",
     "text": [
      "             precision    recall  f1-score   support\n",
      "\n",
      "          0       0.89      0.93      0.91     29771\n",
      "          1       0.74      0.62      0.67      9302\n",
      "\n",
      "avg / total       0.85      0.86      0.85     39073\n",
      "\n"
     ]
    }
   ],
   "source": [
    "print (metrics.classification_report(y_train, train_pred_rf)) "
   ]
  },
  {
   "cell_type": "code",
   "execution_count": 177,
   "metadata": {},
   "outputs": [
    {
     "name": "stdout",
     "output_type": "stream",
     "text": [
      "             precision    recall  f1-score   support\n",
      "\n",
      "          0       0.88      0.93      0.91      7384\n",
      "          1       0.74      0.61      0.67      2385\n",
      "\n",
      "avg / total       0.85      0.85      0.85      9769\n",
      "\n"
     ]
    }
   ],
   "source": [
    "print (metrics.classification_report(y_test, test_pred_rf))"
   ]
  },
  {
   "cell_type": "code",
   "execution_count": 178,
   "metadata": {},
   "outputs": [
    {
     "name": "stdout",
     "output_type": "stream",
     "text": [
      "Accuracy: 86.25\n",
      "Accuracy CV 10-Fold: 86.63\n"
     ]
    }
   ],
   "source": [
    "# Gradient Boosting Trees\n",
    "train_pred_gbt, test_pred_gbt, acc_gbt, acc_cv_gbt, probs_gbt = fit_ml_algo(GradientBoostingClassifier(), \n",
    "                                                                 X_train, \n",
    "                                                                 y_train, \n",
    "                                                                 X_test, \n",
    "                                                                 10)\n",
    "print(\"Accuracy: %s\" % acc_gbt)\n",
    "print(\"Accuracy CV 10-Fold: %s\" % acc_cv_gbt)"
   ]
  },
  {
   "cell_type": "code",
   "execution_count": 181,
   "metadata": {},
   "outputs": [
    {
     "name": "stdout",
     "output_type": "stream",
     "text": [
      "             precision    recall  f1-score   support\n",
      "\n",
      "          0       0.88      0.95      0.92     29771\n",
      "          1       0.79      0.60      0.68      9302\n",
      "\n",
      "avg / total       0.86      0.87      0.86     39073\n",
      "\n"
     ]
    }
   ],
   "source": [
    "print (metrics.classification_report(y_train, train_pred_gbt)) "
   ]
  },
  {
   "cell_type": "code",
   "execution_count": 180,
   "metadata": {},
   "outputs": [
    {
     "data": {
      "text/html": [
       "<div>\n",
       "<style scoped>\n",
       "    .dataframe tbody tr th:only-of-type {\n",
       "        vertical-align: middle;\n",
       "    }\n",
       "\n",
       "    .dataframe tbody tr th {\n",
       "        vertical-align: top;\n",
       "    }\n",
       "\n",
       "    .dataframe thead th {\n",
       "        text-align: right;\n",
       "    }\n",
       "</style>\n",
       "<table border=\"1\" class=\"dataframe\">\n",
       "  <thead>\n",
       "    <tr style=\"text-align: right;\">\n",
       "      <th></th>\n",
       "      <th>Model</th>\n",
       "      <th>Score</th>\n",
       "    </tr>\n",
       "  </thead>\n",
       "  <tbody>\n",
       "    <tr>\n",
       "      <th>4</th>\n",
       "      <td>Gradient Boosting Trees</td>\n",
       "      <td>86.25</td>\n",
       "    </tr>\n",
       "    <tr>\n",
       "      <th>2</th>\n",
       "      <td>Random Forest</td>\n",
       "      <td>85.33</td>\n",
       "    </tr>\n",
       "    <tr>\n",
       "      <th>1</th>\n",
       "      <td>Logistic Regression</td>\n",
       "      <td>81.67</td>\n",
       "    </tr>\n",
       "    <tr>\n",
       "      <th>3</th>\n",
       "      <td>Decision Tree</td>\n",
       "      <td>80.63</td>\n",
       "    </tr>\n",
       "    <tr>\n",
       "      <th>0</th>\n",
       "      <td>KNN</td>\n",
       "      <td>74.55</td>\n",
       "    </tr>\n",
       "  </tbody>\n",
       "</table>\n",
       "</div>"
      ],
      "text/plain": [
       "                     Model  Score\n",
       "4  Gradient Boosting Trees  86.25\n",
       "2            Random Forest  85.33\n",
       "1      Logistic Regression  81.67\n",
       "3            Decision Tree  80.63\n",
       "0                      KNN  74.55"
      ]
     },
     "execution_count": 180,
     "metadata": {},
     "output_type": "execute_result"
    }
   ],
   "source": [
    "models = pd.DataFrame({\n",
    "    'Model': ['KNN', 'Logistic Regression', \n",
    "              'Random Forest',  \n",
    "              'Decision Tree', 'Gradient Boosting Trees'],\n",
    "    'Score': [\n",
    "        acc_knn, \n",
    "        acc_log, \n",
    "        acc_rf, \n",
    "        acc_dt,\n",
    "        acc_gbt\n",
    "    ]})\n",
    "models.sort_values(by='Score', ascending=False)"
   ]
  },
  {
   "cell_type": "markdown",
   "metadata": {},
   "source": [
    "<H3> By looking at the above scores, Boosting would be a good fit for the classification of adult data set  </H3>"
   ]
  },
  {
   "cell_type": "code",
   "execution_count": null,
   "metadata": {},
   "outputs": [],
   "source": []
  }
 ],
 "metadata": {
  "kernelspec": {
   "display_name": "Python 3",
   "language": "python",
   "name": "python3"
  },
  "language_info": {
   "codemirror_mode": {
    "name": "ipython",
    "version": 3
   },
   "file_extension": ".py",
   "mimetype": "text/x-python",
   "name": "python",
   "nbconvert_exporter": "python",
   "pygments_lexer": "ipython3",
   "version": "3.6.5"
  }
 },
 "nbformat": 4,
 "nbformat_minor": 2
}
